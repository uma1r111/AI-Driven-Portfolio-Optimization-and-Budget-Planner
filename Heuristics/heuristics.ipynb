{
  "cells": [
    {
      "cell_type": "code",
      "execution_count": 1,
      "metadata": {
        "id": "FoMo5T6yt4GI"
      },
      "outputs": [],
      "source": [
        "import pandas as pd\n",
        "import numpy as np"
      ]
    },
    {
      "cell_type": "code",
      "execution_count": 2,
      "metadata": {
        "id": "JbVvc_TFt7u_"
      },
      "outputs": [],
      "source": [
        "epsilon = 1e-6"
      ]
    },
    {
      "cell_type": "code",
      "execution_count": 75,
      "metadata": {
        "colab": {
          "base_uri": "https://localhost:8080/",
          "height": 74
        },
        "id": "5c5TEXUOt9kQ",
        "outputId": "f4a68ac1-1ec8-4001-8da7-4be9b9289a00"
      },
      "outputs": [
        {
          "data": {
            "text/html": [
              "\n",
              "     <input type=\"file\" id=\"files-743d6d39-ec32-4c5d-a5e4-398d8a3e97b1\" name=\"files[]\" multiple disabled\n",
              "        style=\"border:none\" />\n",
              "     <output id=\"result-743d6d39-ec32-4c5d-a5e4-398d8a3e97b1\">\n",
              "      Upload widget is only available when the cell has been executed in the\n",
              "      current browser session. Please rerun this cell to enable.\n",
              "      </output>\n",
              "      <script>// Copyright 2017 Google LLC\n",
              "//\n",
              "// Licensed under the Apache License, Version 2.0 (the \"License\");\n",
              "// you may not use this file except in compliance with the License.\n",
              "// You may obtain a copy of the License at\n",
              "//\n",
              "//      http://www.apache.org/licenses/LICENSE-2.0\n",
              "//\n",
              "// Unless required by applicable law or agreed to in writing, software\n",
              "// distributed under the License is distributed on an \"AS IS\" BASIS,\n",
              "// WITHOUT WARRANTIES OR CONDITIONS OF ANY KIND, either express or implied.\n",
              "// See the License for the specific language governing permissions and\n",
              "// limitations under the License.\n",
              "\n",
              "/**\n",
              " * @fileoverview Helpers for google.colab Python module.\n",
              " */\n",
              "(function(scope) {\n",
              "function span(text, styleAttributes = {}) {\n",
              "  const element = document.createElement('span');\n",
              "  element.textContent = text;\n",
              "  for (const key of Object.keys(styleAttributes)) {\n",
              "    element.style[key] = styleAttributes[key];\n",
              "  }\n",
              "  return element;\n",
              "}\n",
              "\n",
              "// Max number of bytes which will be uploaded at a time.\n",
              "const MAX_PAYLOAD_SIZE = 100 * 1024;\n",
              "\n",
              "function _uploadFiles(inputId, outputId) {\n",
              "  const steps = uploadFilesStep(inputId, outputId);\n",
              "  const outputElement = document.getElementById(outputId);\n",
              "  // Cache steps on the outputElement to make it available for the next call\n",
              "  // to uploadFilesContinue from Python.\n",
              "  outputElement.steps = steps;\n",
              "\n",
              "  return _uploadFilesContinue(outputId);\n",
              "}\n",
              "\n",
              "// This is roughly an async generator (not supported in the browser yet),\n",
              "// where there are multiple asynchronous steps and the Python side is going\n",
              "// to poll for completion of each step.\n",
              "// This uses a Promise to block the python side on completion of each step,\n",
              "// then passes the result of the previous step as the input to the next step.\n",
              "function _uploadFilesContinue(outputId) {\n",
              "  const outputElement = document.getElementById(outputId);\n",
              "  const steps = outputElement.steps;\n",
              "\n",
              "  const next = steps.next(outputElement.lastPromiseValue);\n",
              "  return Promise.resolve(next.value.promise).then((value) => {\n",
              "    // Cache the last promise value to make it available to the next\n",
              "    // step of the generator.\n",
              "    outputElement.lastPromiseValue = value;\n",
              "    return next.value.response;\n",
              "  });\n",
              "}\n",
              "\n",
              "/**\n",
              " * Generator function which is called between each async step of the upload\n",
              " * process.\n",
              " * @param {string} inputId Element ID of the input file picker element.\n",
              " * @param {string} outputId Element ID of the output display.\n",
              " * @return {!Iterable<!Object>} Iterable of next steps.\n",
              " */\n",
              "function* uploadFilesStep(inputId, outputId) {\n",
              "  const inputElement = document.getElementById(inputId);\n",
              "  inputElement.disabled = false;\n",
              "\n",
              "  const outputElement = document.getElementById(outputId);\n",
              "  outputElement.innerHTML = '';\n",
              "\n",
              "  const pickedPromise = new Promise((resolve) => {\n",
              "    inputElement.addEventListener('change', (e) => {\n",
              "      resolve(e.target.files);\n",
              "    });\n",
              "  });\n",
              "\n",
              "  const cancel = document.createElement('button');\n",
              "  inputElement.parentElement.appendChild(cancel);\n",
              "  cancel.textContent = 'Cancel upload';\n",
              "  const cancelPromise = new Promise((resolve) => {\n",
              "    cancel.onclick = () => {\n",
              "      resolve(null);\n",
              "    };\n",
              "  });\n",
              "\n",
              "  // Wait for the user to pick the files.\n",
              "  const files = yield {\n",
              "    promise: Promise.race([pickedPromise, cancelPromise]),\n",
              "    response: {\n",
              "      action: 'starting',\n",
              "    }\n",
              "  };\n",
              "\n",
              "  cancel.remove();\n",
              "\n",
              "  // Disable the input element since further picks are not allowed.\n",
              "  inputElement.disabled = true;\n",
              "\n",
              "  if (!files) {\n",
              "    return {\n",
              "      response: {\n",
              "        action: 'complete',\n",
              "      }\n",
              "    };\n",
              "  }\n",
              "\n",
              "  for (const file of files) {\n",
              "    const li = document.createElement('li');\n",
              "    li.append(span(file.name, {fontWeight: 'bold'}));\n",
              "    li.append(span(\n",
              "        `(${file.type || 'n/a'}) - ${file.size} bytes, ` +\n",
              "        `last modified: ${\n",
              "            file.lastModifiedDate ? file.lastModifiedDate.toLocaleDateString() :\n",
              "                                    'n/a'} - `));\n",
              "    const percent = span('0% done');\n",
              "    li.appendChild(percent);\n",
              "\n",
              "    outputElement.appendChild(li);\n",
              "\n",
              "    const fileDataPromise = new Promise((resolve) => {\n",
              "      const reader = new FileReader();\n",
              "      reader.onload = (e) => {\n",
              "        resolve(e.target.result);\n",
              "      };\n",
              "      reader.readAsArrayBuffer(file);\n",
              "    });\n",
              "    // Wait for the data to be ready.\n",
              "    let fileData = yield {\n",
              "      promise: fileDataPromise,\n",
              "      response: {\n",
              "        action: 'continue',\n",
              "      }\n",
              "    };\n",
              "\n",
              "    // Use a chunked sending to avoid message size limits. See b/62115660.\n",
              "    let position = 0;\n",
              "    do {\n",
              "      const length = Math.min(fileData.byteLength - position, MAX_PAYLOAD_SIZE);\n",
              "      const chunk = new Uint8Array(fileData, position, length);\n",
              "      position += length;\n",
              "\n",
              "      const base64 = btoa(String.fromCharCode.apply(null, chunk));\n",
              "      yield {\n",
              "        response: {\n",
              "          action: 'append',\n",
              "          file: file.name,\n",
              "          data: base64,\n",
              "        },\n",
              "      };\n",
              "\n",
              "      let percentDone = fileData.byteLength === 0 ?\n",
              "          100 :\n",
              "          Math.round((position / fileData.byteLength) * 100);\n",
              "      percent.textContent = `${percentDone}% done`;\n",
              "\n",
              "    } while (position < fileData.byteLength);\n",
              "  }\n",
              "\n",
              "  // All done.\n",
              "  yield {\n",
              "    response: {\n",
              "      action: 'complete',\n",
              "    }\n",
              "  };\n",
              "}\n",
              "\n",
              "scope.google = scope.google || {};\n",
              "scope.google.colab = scope.google.colab || {};\n",
              "scope.google.colab._files = {\n",
              "  _uploadFiles,\n",
              "  _uploadFilesContinue,\n",
              "};\n",
              "})(self);\n",
              "</script> "
            ],
            "text/plain": [
              "<IPython.core.display.HTML object>"
            ]
          },
          "metadata": {},
          "output_type": "display_data"
        },
        {
          "name": "stdout",
          "output_type": "stream",
          "text": [
            "Saving ConsumerDefence_sector_predictions.csv to ConsumerDefence_sector_predictions.csv\n"
          ]
        }
      ],
      "source": [
        "from google.colab import files\n",
        "uploaded = files.upload()"
      ]
    },
    {
      "cell_type": "code",
      "execution_count": 76,
      "metadata": {
        "id": "ZAVch5R9t9g3"
      },
      "outputs": [],
      "source": [
        "# Load sector CSV (Technology sector in this example)\n",
        "df = pd.read_csv(\"ConsumerDefence_sector_predictions.csv\")"
      ]
    },
    {
      "cell_type": "code",
      "execution_count": 77,
      "metadata": {
        "id": "wFaVdgDbuKR1"
      },
      "outputs": [],
      "source": [
        "# Use epsilon instead of dropping rows\n",
        "df[\"Volatility\"] = df[\"Volatility\"].replace(0, epsilon)\n",
        "df[\"Log_Returns\"] = df[\"Log_Returns\"].replace([np.inf, -np.inf], np.nan).fillna(0)\n",
        "df[\"Volatility\"] = df[\"Volatility\"].replace([np.inf, -np.inf], np.nan).fillna(epsilon)"
      ]
    },
    {
      "cell_type": "code",
      "execution_count": 78,
      "metadata": {
        "id": "vlxNLwlpuMkv"
      },
      "outputs": [],
      "source": [
        "# Dictionary to hold scores\n",
        "results = {\n",
        "    \"Sharpe\": {},\n",
        "    \"Kelly\": {},\n",
        "    \"Sortino\": {},\n",
        "    \"Custom\": {}\n",
        "}"
      ]
    },
    {
      "cell_type": "code",
      "execution_count": 79,
      "metadata": {
        "id": "ZeTd_J5ouPZS"
      },
      "outputs": [],
      "source": [
        "# Compute heuristics\n",
        "for stock in df[\"Stock\"].unique():\n",
        "    stock_df = df[df[\"Stock\"] == stock]\n",
        "    r = stock_df[\"Log_Returns\"]\n",
        "    v = stock_df[\"Volatility\"].replace(0, epsilon)\n",
        "    downside = r[r < 0]\n",
        "    downside_std = downside.std() if downside.std() != 0 else epsilon\n",
        "\n",
        "    sharpe_scores = r / v\n",
        "    kelly_scores = (r - r.var()) / v\n",
        "    sortino_scores = r / downside_std\n",
        "    custom_scores = sharpe_scores * sortino_scores\n",
        "\n",
        "    results[\"Sharpe\"][stock] = np.median(sharpe_scores)\n",
        "    results[\"Kelly\"][stock] = np.median(kelly_scores)\n",
        "    results[\"Sortino\"][stock] = np.median(sortino_scores)\n",
        "    results[\"Custom\"][stock] = np.median(custom_scores)\n"
      ]
    },
    {
      "cell_type": "code",
      "execution_count": 80,
      "metadata": {
        "id": "xMxS-lXsuRSL"
      },
      "outputs": [],
      "source": [
        "# Normalize each equation's scores\n",
        "normalized_results = {}\n",
        "for eqn in results:\n",
        "    scores = pd.Series(results[eqn])\n",
        "    min_score = scores.min()\n",
        "    max_score = scores.max()\n",
        "    normalized = (scores - min_score) / (max_score - min_score + epsilon)\n",
        "    normalized_results[eqn] = normalized"
      ]
    },
    {
      "cell_type": "code",
      "execution_count": null,
      "metadata": {},
      "outputs": [],
      "source": [
        "# Print equation blocks\n",
        "for eqn_name, score_series in normalized_results.items():\n",
        "    print(f\"\\n== {eqn_name} Equation Block ==\")\n",
        "    for stock, score in score_series.items():\n",
        "        print(f\"{stock} - heuristic: {round(score, 4)} - equation name: {eqn_name}\")"
      ]
    },
    {
      "cell_type": "code",
      "execution_count": 82,
      "metadata": {
        "id": "9_yzOyscuV6o"
      },
      "outputs": [],
      "source": [
        "# Determine best heuristic and equation per stock\n",
        "final_output = []\n",
        "for stock in df[\"Stock\"].unique():\n",
        "    best_eqn = max(normalized_results, key=lambda eq: normalized_results[eq][stock])\n",
        "    best_score = normalized_results[best_eqn][stock]\n",
        "    sector = df[df[\"Stock\"] == stock][\"Sector\"].iloc[0]\n",
        "    final_output.append({\n",
        "        \"Stock\": stock,\n",
        "        \"Sector\": sector,\n",
        "        \"Best Heuristic\": round(best_score, 4),\n",
        "        \"Best Equation\": best_eqn\n",
        "    })\n"
      ]
    },
    {
      "cell_type": "code",
      "execution_count": null,
      "metadata": {},
      "outputs": [],
      "source": [
        "final_df = pd.DataFrame(final_output)\n",
        "print(\"\\n== Final Best Heuristics per Stock ==\")\n",
        "print(final_df)"
      ]
    },
    {
      "cell_type": "code",
      "execution_count": 84,
      "metadata": {
        "id": "9DDCPE1KvZZM"
      },
      "outputs": [],
      "source": [
        "#Save to CSV if needed\n",
        "final_df.to_csv(\"ConsumerDefence_stocks_heuristics.csv\", index=False)"
      ]
    }
  ],
  "metadata": {
    "colab": {
      "provenance": []
    },
    "kernelspec": {
      "display_name": "Python 3",
      "name": "python3"
    },
    "language_info": {
      "name": "python"
    }
  },
  "nbformat": 4,
  "nbformat_minor": 0
}
