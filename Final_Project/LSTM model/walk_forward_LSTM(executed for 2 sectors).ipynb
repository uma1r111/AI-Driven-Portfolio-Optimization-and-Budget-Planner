{
  "cells": [
    {
      "cell_type": "code",
      "execution_count": null,
      "metadata": {
        "colab": {
          "base_uri": "https://localhost:8080/",
          "height": 73
        },
        "id": "rzYJKYVjJIyl",
        "outputId": "0a0f5657-7ea3-46d6-a275-acc0b1f65570"
      },
      "outputs": [
        {
          "output_type": "display_data",
          "data": {
            "text/plain": [
              "<IPython.core.display.HTML object>"
            ],
            "text/html": [
              "\n",
              "     <input type=\"file\" id=\"files-d46af6f5-96cf-459c-9eac-8912a8356597\" name=\"files[]\" multiple disabled\n",
              "        style=\"border:none\" />\n",
              "     <output id=\"result-d46af6f5-96cf-459c-9eac-8912a8356597\">\n",
              "      Upload widget is only available when the cell has been executed in the\n",
              "      current browser session. Please rerun this cell to enable.\n",
              "      </output>\n",
              "      <script>// Copyright 2017 Google LLC\n",
              "//\n",
              "// Licensed under the Apache License, Version 2.0 (the \"License\");\n",
              "// you may not use this file except in compliance with the License.\n",
              "// You may obtain a copy of the License at\n",
              "//\n",
              "//      http://www.apache.org/licenses/LICENSE-2.0\n",
              "//\n",
              "// Unless required by applicable law or agreed to in writing, software\n",
              "// distributed under the License is distributed on an \"AS IS\" BASIS,\n",
              "// WITHOUT WARRANTIES OR CONDITIONS OF ANY KIND, either express or implied.\n",
              "// See the License for the specific language governing permissions and\n",
              "// limitations under the License.\n",
              "\n",
              "/**\n",
              " * @fileoverview Helpers for google.colab Python module.\n",
              " */\n",
              "(function(scope) {\n",
              "function span(text, styleAttributes = {}) {\n",
              "  const element = document.createElement('span');\n",
              "  element.textContent = text;\n",
              "  for (const key of Object.keys(styleAttributes)) {\n",
              "    element.style[key] = styleAttributes[key];\n",
              "  }\n",
              "  return element;\n",
              "}\n",
              "\n",
              "// Max number of bytes which will be uploaded at a time.\n",
              "const MAX_PAYLOAD_SIZE = 100 * 1024;\n",
              "\n",
              "function _uploadFiles(inputId, outputId) {\n",
              "  const steps = uploadFilesStep(inputId, outputId);\n",
              "  const outputElement = document.getElementById(outputId);\n",
              "  // Cache steps on the outputElement to make it available for the next call\n",
              "  // to uploadFilesContinue from Python.\n",
              "  outputElement.steps = steps;\n",
              "\n",
              "  return _uploadFilesContinue(outputId);\n",
              "}\n",
              "\n",
              "// This is roughly an async generator (not supported in the browser yet),\n",
              "// where there are multiple asynchronous steps and the Python side is going\n",
              "// to poll for completion of each step.\n",
              "// This uses a Promise to block the python side on completion of each step,\n",
              "// then passes the result of the previous step as the input to the next step.\n",
              "function _uploadFilesContinue(outputId) {\n",
              "  const outputElement = document.getElementById(outputId);\n",
              "  const steps = outputElement.steps;\n",
              "\n",
              "  const next = steps.next(outputElement.lastPromiseValue);\n",
              "  return Promise.resolve(next.value.promise).then((value) => {\n",
              "    // Cache the last promise value to make it available to the next\n",
              "    // step of the generator.\n",
              "    outputElement.lastPromiseValue = value;\n",
              "    return next.value.response;\n",
              "  });\n",
              "}\n",
              "\n",
              "/**\n",
              " * Generator function which is called between each async step of the upload\n",
              " * process.\n",
              " * @param {string} inputId Element ID of the input file picker element.\n",
              " * @param {string} outputId Element ID of the output display.\n",
              " * @return {!Iterable<!Object>} Iterable of next steps.\n",
              " */\n",
              "function* uploadFilesStep(inputId, outputId) {\n",
              "  const inputElement = document.getElementById(inputId);\n",
              "  inputElement.disabled = false;\n",
              "\n",
              "  const outputElement = document.getElementById(outputId);\n",
              "  outputElement.innerHTML = '';\n",
              "\n",
              "  const pickedPromise = new Promise((resolve) => {\n",
              "    inputElement.addEventListener('change', (e) => {\n",
              "      resolve(e.target.files);\n",
              "    });\n",
              "  });\n",
              "\n",
              "  const cancel = document.createElement('button');\n",
              "  inputElement.parentElement.appendChild(cancel);\n",
              "  cancel.textContent = 'Cancel upload';\n",
              "  const cancelPromise = new Promise((resolve) => {\n",
              "    cancel.onclick = () => {\n",
              "      resolve(null);\n",
              "    };\n",
              "  });\n",
              "\n",
              "  // Wait for the user to pick the files.\n",
              "  const files = yield {\n",
              "    promise: Promise.race([pickedPromise, cancelPromise]),\n",
              "    response: {\n",
              "      action: 'starting',\n",
              "    }\n",
              "  };\n",
              "\n",
              "  cancel.remove();\n",
              "\n",
              "  // Disable the input element since further picks are not allowed.\n",
              "  inputElement.disabled = true;\n",
              "\n",
              "  if (!files) {\n",
              "    return {\n",
              "      response: {\n",
              "        action: 'complete',\n",
              "      }\n",
              "    };\n",
              "  }\n",
              "\n",
              "  for (const file of files) {\n",
              "    const li = document.createElement('li');\n",
              "    li.append(span(file.name, {fontWeight: 'bold'}));\n",
              "    li.append(span(\n",
              "        `(${file.type || 'n/a'}) - ${file.size} bytes, ` +\n",
              "        `last modified: ${\n",
              "            file.lastModifiedDate ? file.lastModifiedDate.toLocaleDateString() :\n",
              "                                    'n/a'} - `));\n",
              "    const percent = span('0% done');\n",
              "    li.appendChild(percent);\n",
              "\n",
              "    outputElement.appendChild(li);\n",
              "\n",
              "    const fileDataPromise = new Promise((resolve) => {\n",
              "      const reader = new FileReader();\n",
              "      reader.onload = (e) => {\n",
              "        resolve(e.target.result);\n",
              "      };\n",
              "      reader.readAsArrayBuffer(file);\n",
              "    });\n",
              "    // Wait for the data to be ready.\n",
              "    let fileData = yield {\n",
              "      promise: fileDataPromise,\n",
              "      response: {\n",
              "        action: 'continue',\n",
              "      }\n",
              "    };\n",
              "\n",
              "    // Use a chunked sending to avoid message size limits. See b/62115660.\n",
              "    let position = 0;\n",
              "    do {\n",
              "      const length = Math.min(fileData.byteLength - position, MAX_PAYLOAD_SIZE);\n",
              "      const chunk = new Uint8Array(fileData, position, length);\n",
              "      position += length;\n",
              "\n",
              "      const base64 = btoa(String.fromCharCode.apply(null, chunk));\n",
              "      yield {\n",
              "        response: {\n",
              "          action: 'append',\n",
              "          file: file.name,\n",
              "          data: base64,\n",
              "        },\n",
              "      };\n",
              "\n",
              "      let percentDone = fileData.byteLength === 0 ?\n",
              "          100 :\n",
              "          Math.round((position / fileData.byteLength) * 100);\n",
              "      percent.textContent = `${percentDone}% done`;\n",
              "\n",
              "    } while (position < fileData.byteLength);\n",
              "  }\n",
              "\n",
              "  // All done.\n",
              "  yield {\n",
              "    response: {\n",
              "      action: 'complete',\n",
              "    }\n",
              "  };\n",
              "}\n",
              "\n",
              "scope.google = scope.google || {};\n",
              "scope.google.colab = scope.google.colab || {};\n",
              "scope.google.colab._files = {\n",
              "  _uploadFiles,\n",
              "  _uploadFilesContinue,\n",
              "};\n",
              "})(self);\n",
              "</script> "
            ]
          },
          "metadata": {}
        },
        {
          "output_type": "stream",
          "name": "stdout",
          "text": [
            "Saving combined_stock_features.csv to combined_stock_features.csv\n"
          ]
        }
      ],
      "source": [
        "from google.colab import files\n",
        "uploaded = files.upload()  # Click \"Choose Files\" and select your products.csv"
      ]
    },
    {
      "cell_type": "code",
      "execution_count": null,
      "metadata": {
        "colab": {
          "base_uri": "https://localhost:8080/"
        },
        "id": "MvpFyqFiL3Z0",
        "outputId": "d38e797b-90d5-4c9f-ef02-9a827feff3d9"
      },
      "outputs": [
        {
          "output_type": "stream",
          "name": "stdout",
          "text": [
            "             Date       Close        High         Low        Open  \\\n",
            "0      2023-01-03  123.632523  129.395510  122.742865  128.782641   \n",
            "1      2023-01-04  124.907700  127.181268  123.642412  125.431607   \n",
            "2      2023-01-05  123.583107  126.301500  123.326101  125.668857   \n",
            "3      2023-01-06  128.130203  128.792501  123.454572  124.561702   \n",
            "4      2023-01-09  128.654144  131.876686  128.397138  128.970474   \n",
            "...           ...         ...         ...         ...         ...   \n",
            "49191  2024-12-24  105.456718  106.239716  104.762920  105.575650   \n",
            "49192  2024-12-26  105.545921  106.081135  105.000802  105.575654   \n",
            "49193  2024-12-27  105.536011  107.032618  104.832299  105.357606   \n",
            "49194  2024-12-30  104.822395  105.615298  104.574612  105.357609   \n",
            "49195  2024-12-31  106.616348  106.943424  104.842216  105.228758   \n",
            "\n",
            "            Volume        MA10        MA50       MA100       MA200        RSI  \\\n",
            "0      112117500.0  128.989240  141.020708  146.761524  149.348865  22.617030   \n",
            "1       89113600.0  128.395150  140.612136  146.347824  149.166577  23.287613   \n",
            "2       80962700.0  127.675517  140.134045  145.885252  148.970778  23.902384   \n",
            "3       87754700.0  127.099216  139.689855  145.457395  148.780788  39.492886   \n",
            "4       70790800.0  126.893607  139.315159  145.036356  148.586579  43.030652   \n",
            "...            ...         ...         ...         ...         ...        ...   \n",
            "49191    7807000.0  107.197153  115.159559  115.028485  113.731151  13.039350   \n",
            "49192    9652400.0  106.658967  114.904260  114.964701  113.734965   9.560926   \n",
            "49193   11943900.0  106.129701  114.642668  114.906766  113.732877  10.828675   \n",
            "49194   11080800.0  105.626205  114.372898  114.826873  113.717837  10.769181   \n",
            "49195   12387800.0  105.537003  114.145693  114.743366  113.712735  26.123565   \n",
            "\n",
            "       Norm_Volume  Bollinger_Upper  Bollinger_Lower  Log_Returns  Pct_Change  \\\n",
            "0         1.331549       148.054167       121.250636    -0.038122   -0.037405   \n",
            "1         1.057702       146.806192       120.494904     0.010261    0.010314   \n",
            "2         0.959823       146.141765       119.390893    -0.010661   -0.010605   \n",
            "3         1.037141       145.362307       119.051356     0.036133    0.036794   \n",
            "4         0.840106       144.150863       119.027169     0.004081    0.004089   \n",
            "...            ...              ...              ...          ...         ...   \n",
            "49191     0.515993       119.938902       101.963248     0.000940    0.000941   \n",
            "49192     0.643165       119.217199       101.547128     0.000846    0.000846   \n",
            "49193     0.792140       118.402853       101.253386    -0.000094   -0.000094   \n",
            "49194     0.735019       117.389984       101.057070    -0.006785   -0.006762   \n",
            "49195     0.822273       116.125416       101.302753     0.016969    0.017114   \n",
            "\n",
            "      Ticker                       Sector  \n",
            "0       AAPL                   Technology  \n",
            "1       AAPL                   Technology  \n",
            "2       AAPL                   Technology  \n",
            "3       AAPL                   Technology  \n",
            "4       AAPL                   Technology  \n",
            "...      ...                          ...  \n",
            "49191    XOM  Physical Assets & Resources  \n",
            "49192    XOM  Physical Assets & Resources  \n",
            "49193    XOM  Physical Assets & Resources  \n",
            "49194    XOM  Physical Assets & Resources  \n",
            "49195    XOM  Physical Assets & Resources  \n",
            "\n",
            "[49196 rows x 18 columns]\n",
            "             Date       Close        High         Low        Open  \\\n",
            "0      2023-01-03  123.632523  129.395510  122.742865  128.782641   \n",
            "1      2023-01-04  124.907700  127.181268  123.642412  125.431607   \n",
            "2      2023-01-05  123.583107  126.301500  123.326101  125.668857   \n",
            "3      2023-01-06  128.130203  128.792501  123.454572  124.561702   \n",
            "4      2023-01-09  128.654144  131.876686  128.397138  128.970474   \n",
            "...           ...         ...         ...         ...         ...   \n",
            "49191  2024-12-24  105.456718  106.239716  104.762920  105.575650   \n",
            "49192  2024-12-26  105.545921  106.081135  105.000802  105.575654   \n",
            "49193  2024-12-27  105.536011  107.032618  104.832299  105.357606   \n",
            "49194  2024-12-30  104.822395  105.615298  104.574612  105.357609   \n",
            "49195  2024-12-31  106.616348  106.943424  104.842216  105.228758   \n",
            "\n",
            "            Volume        MA10        MA50       MA100       MA200        RSI  \\\n",
            "0      112117500.0  128.989240  141.020708  146.761524  149.348865  22.617030   \n",
            "1       89113600.0  128.395150  140.612136  146.347824  149.166577  23.287613   \n",
            "2       80962700.0  127.675517  140.134045  145.885252  148.970778  23.902384   \n",
            "3       87754700.0  127.099216  139.689855  145.457395  148.780788  39.492886   \n",
            "4       70790800.0  126.893607  139.315159  145.036356  148.586579  43.030652   \n",
            "...            ...         ...         ...         ...         ...        ...   \n",
            "49191    7807000.0  107.197153  115.159559  115.028485  113.731151  13.039350   \n",
            "49192    9652400.0  106.658967  114.904260  114.964701  113.734965   9.560926   \n",
            "49193   11943900.0  106.129701  114.642668  114.906766  113.732877  10.828675   \n",
            "49194   11080800.0  105.626205  114.372898  114.826873  113.717837  10.769181   \n",
            "49195   12387800.0  105.537003  114.145693  114.743366  113.712735  26.123565   \n",
            "\n",
            "       Norm_Volume  Bollinger_Upper  Bollinger_Lower  Log_Returns  Pct_Change  \\\n",
            "0         1.331549       148.054167       121.250636    -0.038122   -0.037405   \n",
            "1         1.057702       146.806192       120.494904     0.010261    0.010314   \n",
            "2         0.959823       146.141765       119.390893    -0.010661   -0.010605   \n",
            "3         1.037141       145.362307       119.051356     0.036133    0.036794   \n",
            "4         0.840106       144.150863       119.027169     0.004081    0.004089   \n",
            "...            ...              ...              ...          ...         ...   \n",
            "49191     0.515993       119.938902       101.963248     0.000940    0.000941   \n",
            "49192     0.643165       119.217199       101.547128     0.000846    0.000846   \n",
            "49193     0.792140       118.402853       101.253386    -0.000094   -0.000094   \n",
            "49194     0.735019       117.389984       101.057070    -0.006785   -0.006762   \n",
            "49195     0.822273       116.125416       101.302753     0.016969    0.017114   \n",
            "\n",
            "      Ticker                       Sector  \n",
            "0       AAPL                   Technology  \n",
            "1       AAPL                   Technology  \n",
            "2       AAPL                   Technology  \n",
            "3       AAPL                   Technology  \n",
            "4       AAPL                   Technology  \n",
            "...      ...                          ...  \n",
            "49191    XOM  Physical Assets & Resources  \n",
            "49192    XOM  Physical Assets & Resources  \n",
            "49193    XOM  Physical Assets & Resources  \n",
            "49194    XOM  Physical Assets & Resources  \n",
            "49195    XOM  Physical Assets & Resources  \n",
            "\n",
            "[49196 rows x 18 columns]\n"
          ]
        }
      ],
      "source": [
        "import pandas as pd\n",
        "import io\n",
        "\n",
        "# Read the uploaded file\n",
        "df = pd.read_csv(io.BytesIO(uploaded['combined_stock_features.csv']))\n",
        "print(df)\n",
        "\n",
        "# Or if you just want to save it first:\n",
        "with open('combined_stock_features.csv', 'wb') as f:\n",
        "    f.write(uploaded['combined_stock_features.csv'])\n",
        "\n",
        "df = pd.read_csv('combined_stock_features.csv')\n",
        "print(df)"
      ]
    },
    {
      "cell_type": "code",
      "execution_count": null,
      "metadata": {
        "id": "58rbigxyL6Tm"
      },
      "outputs": [],
      "source": [
        "import pandas as pd\n",
        "import numpy as np\n",
        "import matplotlib.pyplot as plt"
      ]
    },
    {
      "cell_type": "code",
      "execution_count": null,
      "metadata": {
        "id": "874NpZVLpug4"
      },
      "outputs": [],
      "source": [
        "# Create a mapping for Ticker and Sector\n",
        "ticker_to_id = {ticker: idx for idx, ticker in enumerate(df['Ticker'].unique())}\n",
        "sector_to_id = {sector: idx for idx, sector in enumerate(df['Sector'].unique())}\n",
        "\n",
        "# Add Ticker_ID and Sector_ID columns\n",
        "df['Ticker_ID'] = df['Ticker'].map(ticker_to_id)\n",
        "df['Sector_ID'] = df['Sector'].map(sector_to_id)\n"
      ]
    },
    {
      "cell_type": "code",
      "execution_count": null,
      "metadata": {
        "colab": {
          "base_uri": "https://localhost:8080/"
        },
        "id": "MFF3QpeVm7wO",
        "outputId": "d47f4c11-b4f8-459e-d9e6-b237f716a7a3"
      },
      "outputs": [
        {
          "data": {
            "text/plain": [
              "{'AAPL': 0,\n",
              " 'ABBV': 1,\n",
              " 'ABT': 2,\n",
              " 'ACN': 3,\n",
              " 'ADBE': 4,\n",
              " 'AIG': 5,\n",
              " 'AMGN': 6,\n",
              " 'AMT': 7,\n",
              " 'AMZN': 8,\n",
              " 'AVGO': 9,\n",
              " 'AXP': 10,\n",
              " 'BA': 11,\n",
              " 'BAC': 12,\n",
              " 'BK': 13,\n",
              " 'BKNG': 14,\n",
              " 'BLK': 15,\n",
              " 'BMY': 16,\n",
              " 'C': 17,\n",
              " 'CAT': 18,\n",
              " 'CHTR': 19,\n",
              " 'CL': 20,\n",
              " 'CMCSA': 21,\n",
              " 'COF': 22,\n",
              " 'COP': 23,\n",
              " 'COST': 24,\n",
              " 'CRM': 25,\n",
              " 'CSCO': 26,\n",
              " 'CVS': 27,\n",
              " 'CVX': 28,\n",
              " 'DHR': 29,\n",
              " 'DIS': 30,\n",
              " 'DOW': 31,\n",
              " 'DUK': 32,\n",
              " 'EMR': 33,\n",
              " 'EXC': 34,\n",
              " 'F': 35,\n",
              " 'FDX': 36,\n",
              " 'GD': 37,\n",
              " 'GE': 38,\n",
              " 'GILD': 39,\n",
              " 'GM': 40,\n",
              " 'GOOG': 41,\n",
              " 'GS': 42,\n",
              " 'HD': 43,\n",
              " 'HON': 44,\n",
              " 'IBM': 45,\n",
              " 'INTC': 46,\n",
              " 'INTU': 47,\n",
              " 'JNJ': 48,\n",
              " 'JPM': 49,\n",
              " 'KHC': 50,\n",
              " 'KO': 51,\n",
              " 'LIN': 52,\n",
              " 'LLY': 53,\n",
              " 'LMT': 54,\n",
              " 'LOW': 55,\n",
              " 'MA': 56,\n",
              " 'MCD': 57,\n",
              " 'MDLZ': 58,\n",
              " 'MDT': 59,\n",
              " 'MET': 60,\n",
              " 'META': 61,\n",
              " 'MMM': 62,\n",
              " 'MO': 63,\n",
              " 'MRK': 64,\n",
              " 'MS': 65,\n",
              " 'MSFT': 66,\n",
              " 'NEE': 67,\n",
              " 'NFLX': 68,\n",
              " 'NKE': 69,\n",
              " 'NVDA': 70,\n",
              " 'ORCL': 71,\n",
              " 'PEP': 72,\n",
              " 'PFE': 73,\n",
              " 'PG': 74,\n",
              " 'PM': 75,\n",
              " 'PYPL': 76,\n",
              " 'QCOM': 77,\n",
              " 'RTX': 78,\n",
              " 'SBUX': 79,\n",
              " 'SO': 80,\n",
              " 'SPG': 81,\n",
              " 'T': 82,\n",
              " 'TGT': 83,\n",
              " 'TMO': 84,\n",
              " 'TMUS': 85,\n",
              " 'TSLA': 86,\n",
              " 'TXN': 87,\n",
              " 'UNH': 88,\n",
              " 'UNP': 89,\n",
              " 'UPS': 90,\n",
              " 'USB': 91,\n",
              " 'V': 92,\n",
              " 'VZ': 93,\n",
              " 'WBA': 94,\n",
              " 'WFC': 95,\n",
              " 'WMT': 96,\n",
              " 'XOM': 97}"
            ]
          },
          "execution_count": 5,
          "metadata": {},
          "output_type": "execute_result"
        }
      ],
      "source": [
        "ticker_to_id"
      ]
    },
    {
      "cell_type": "code",
      "execution_count": null,
      "metadata": {
        "colab": {
          "base_uri": "https://localhost:8080/"
        },
        "id": "d23RYalFsddB",
        "outputId": "8d9d89cd-3ba8-4daa-8b87-21051fe3a00b"
      },
      "outputs": [
        {
          "output_type": "execute_result",
          "data": {
            "text/plain": [
              "{'Technology': 0,\n",
              " 'Healthcare': 1,\n",
              " 'Financial Services': 2,\n",
              " 'Physical Assets & Resources': 3,\n",
              " 'Consumer Cyclical': 4,\n",
              " 'Industrials': 5,\n",
              " 'Communication Services': 6,\n",
              " 'Consumer Defensive': 7}"
            ]
          },
          "metadata": {},
          "execution_count": 5
        }
      ],
      "source": [
        "sector_to_id"
      ]
    },
    {
      "cell_type": "code",
      "execution_count": null,
      "metadata": {
        "id": "oi8WkXezMHFR"
      },
      "outputs": [],
      "source": [
        "# Select features and target\n",
        "features = ['Close', 'MA100', 'RSI', 'Norm_Volume', 'Bollinger_Upper', 'Bollinger_Lower', 'Log_Returns', 'Ticker_ID', 'Sector_ID']\n",
        "data = df[features]  # Keep only selected features\n"
      ]
    },
    {
      "cell_type": "code",
      "execution_count": null,
      "metadata": {
        "colab": {
          "base_uri": "https://localhost:8080/"
        },
        "id": "mQDJpNhJjMW6",
        "outputId": "197d0dc5-a9c7-4892-b923-95130479d9ef"
      },
      "outputs": [
        {
          "output_type": "execute_result",
          "data": {
            "text/plain": [
              "array([0, 1, 2, 3, 4, 5, 6, 7])"
            ]
          },
          "metadata": {},
          "execution_count": 7
        }
      ],
      "source": [
        "data['Sector_ID'].unique()"
      ]
    },
    {
      "cell_type": "code",
      "execution_count": null,
      "metadata": {
        "id": "7B1D-B29MIKN"
      },
      "outputs": [],
      "source": [
        "def min_max_scaling(data):\n",
        "    \"\"\"Scale data to [0, 1] range and return scaled data + min/max values\"\"\"\n",
        "    min_val = np.min(data)\n",
        "    max_val = np.max(data)\n",
        "    # Handle case where all values are identical (avoid division by zero)\n",
        "    if max_val == min_val:\n",
        "        return np.zeros_like(data), min_val, max_val\n",
        "    return (data - min_val) / (max_val - min_val), min_val, max_val"
      ]
    },
    {
      "cell_type": "code",
      "execution_count": null,
      "metadata": {
        "id": "R1fDmlHWMJvB"
      },
      "outputs": [],
      "source": [
        "def scale_features(df):\n",
        "    scaled_data = {}\n",
        "    scalers = {}\n",
        "\n",
        "    for col in df.columns:\n",
        "        if col in ['Ticker_ID', 'Sector_ID']:  # Don't scale these columns\n",
        "            scaled_data[col] = df[col].values\n",
        "            continue\n",
        "\n",
        "        scaled_values, min_val, max_val = min_max_scaling(df[col].values)\n",
        "        if col == 'Log_Returns':\n",
        "            scalers['target'] = (min_val, max_val)\n",
        "        else:\n",
        "            scalers[col] = (min_val, max_val)\n",
        "\n",
        "        scaled_data[col] = scaled_values\n",
        "\n",
        "    return pd.DataFrame(scaled_data), scalers\n",
        "\n",
        "# Scale all features\n",
        "scaled_data, scalers = scale_features(data)\n",
        "\n",
        "# Split into train/test (keeping temporal order)\n",
        "split_ratio = 0.8\n",
        "split_index = int(len(scaled_data) * split_ratio)\n",
        "train_data = scaled_data.iloc[:split_index]\n",
        "test_data = scaled_data.iloc[split_index:]\n"
      ]
    },
    {
      "cell_type": "code",
      "execution_count": null,
      "metadata": {
        "colab": {
          "base_uri": "https://localhost:8080/"
        },
        "id": "xGHXXjsMzRN1",
        "outputId": "df80f103-5824-4029-9441-0b8d1881910e"
      },
      "outputs": [
        {
          "output_type": "stream",
          "name": "stdout",
          "text": [
            "Index(['Close', 'MA100', 'RSI', 'Norm_Volume', 'Bollinger_Upper',\n",
            "       'Bollinger_Lower', 'Log_Returns', 'Ticker_ID', 'Sector_ID'],\n",
            "      dtype='object')\n",
            "Index(['Close', 'MA100', 'RSI', 'Norm_Volume', 'Bollinger_Upper',\n",
            "       'Bollinger_Lower', 'Log_Returns', 'Ticker_ID', 'Sector_ID'],\n",
            "      dtype='object')\n"
          ]
        }
      ],
      "source": [
        "print(train_data.columns)\n",
        "print(test_data.columns)"
      ]
    },
    {
      "cell_type": "code",
      "execution_count": null,
      "metadata": {
        "id": "eaeTYKXqxYXV"
      },
      "outputs": [],
      "source": [
        "# Create ticker mapping and ticker IDs\n",
        "unique_tickers = list(set(train_data['Ticker_ID'].values) | set(test_data['Ticker_ID'].values))\n",
        "ticker_mapping = {ticker: idx for idx, ticker in enumerate(unique_tickers)}\n",
        "\n",
        "unique_sectors = list(set(train_data['Sector_ID'].values) | set(test_data['Sector_ID'].values))\n",
        "sector_mapping = {sector_id: sector_id for sector_id in unique_sectors}\n",
        "\n",
        "train_ticker_ids = train_data['Ticker_ID'].values\n",
        "test_ticker_ids = test_data['Ticker_ID'].values"
      ]
    },
    {
      "cell_type": "code",
      "execution_count": null,
      "metadata": {
        "colab": {
          "base_uri": "https://localhost:8080/"
        },
        "id": "mymmI-pfMLbm",
        "outputId": "d940f828-ae21-4cff-f37b-6c2e0055df8f"
      },
      "outputs": [
        {
          "output_type": "stream",
          "name": "stdout",
          "text": [
            "Training shapes - X: (35406, 50, 6), y: (35406,)\n",
            "Test shapes - X: (8840, 50, 6), y: (8840,)\n"
          ]
        }
      ],
      "source": [
        "# Create sequences function for sector-wise training\n",
        "def create_sequences_multi(data, ticker_ids, sector_ids, seq_length=50, target_col='Log_Returns'):\n",
        "    \"\"\"Create sequences from multiple features (without including Ticker_ID) for sector-wise training\"\"\"\n",
        "    X, y, ticker_seq_list, sector_seq_list = [], [], [], []\n",
        "    data_values = data.drop(['Ticker_ID', 'Sector_ID'], axis=1).values  # Drop 'Ticker_ID' and 'Sector_ID' from features\n",
        "\n",
        "    for sector_id in np.unique(sector_ids):\n",
        "        sector_data = data[data['Sector_ID'] == sector_id]\n",
        "        sector_ticker_ids = sector_data['Ticker_ID'].values\n",
        "\n",
        "        for ticker_id in np.unique(sector_ticker_ids):\n",
        "            ticker_data = sector_data[sector_data['Ticker_ID'] == ticker_id]\n",
        "            features = ticker_data.drop(['Log_Returns', 'Ticker_ID', 'Sector_ID'], axis=1).values\n",
        "            targets = ticker_data['Log_Returns'].values\n",
        "\n",
        "            for i in range(len(features) - seq_length):\n",
        "                X.append(features[i:i+seq_length, :])  # Selecting only the features\n",
        "                ticker_seq_list.append(ticker_id)\n",
        "                sector_seq_list.append(sector_id)  # Include the sector_id in the sequence\n",
        "                y.append(targets[i + seq_length])\n",
        "\n",
        "    return np.array(X), np.array(y), np.array(ticker_seq_list), np.array(sector_seq_list)\n",
        "\n",
        "\n",
        "# Create sequences for train and test data sector-wise\n",
        "seq_length=50\n",
        "X_train, y_train, train_tickers, train_sectors = create_sequences_multi(train_data, train_ticker_ids, train_data['Sector_ID'].values, seq_length=50)\n",
        "X_test, y_test, test_tickers, test_sectors = create_sequences_multi(test_data, test_ticker_ids, test_data['Sector_ID'].values, seq_length=50)\n",
        "\n",
        "# Check shapes\n",
        "print(f\"Training shapes - X: {X_train.shape}, y: {y_train.shape}\")\n",
        "print(f\"Test shapes - X: {X_test.shape}, y: {y_test.shape}\")\n"
      ]
    },
    {
      "cell_type": "code",
      "execution_count": null,
      "metadata": {
        "id": "ROZ8S4AnMNKO"
      },
      "outputs": [],
      "source": [
        "class LSTM:\n",
        "    def __init__(self, input_dim, hidden_dim, output_dim, ticker_dim, embedding_dim, sector_dim, learning_rate=0.01, beta1=0.9, beta2=0.999, epsilon=1e-8):\n",
        "        self.input_dim = input_dim\n",
        "        self.hidden_dim = hidden_dim\n",
        "        self.output_dim = output_dim\n",
        "        self.lr = learning_rate\n",
        "        self.ticker_dim = ticker_dim\n",
        "        self.embedding_dim = embedding_dim\n",
        "        self.sector_dim = sector_dim  # Number of sectors\n",
        "        self.beta1 = beta1\n",
        "        self.beta2 = beta2\n",
        "        self.epsilon = epsilon\n",
        "        self.t = 1  # Time step for Adam\n",
        "\n",
        "        # Combined input size: hidden + input + ticker + sector embedding\n",
        "        concat_dim = hidden_dim + input_dim + embedding_dim + sector_dim\n",
        "\n",
        "        # Initialize weights\n",
        "        self.Wf = np.random.randn(hidden_dim, concat_dim) * 0.01\n",
        "        self.bf = np.zeros((hidden_dim, 1))\n",
        "\n",
        "        self.Wi = np.random.randn(hidden_dim, concat_dim) * 0.01\n",
        "        self.bi = np.zeros((hidden_dim, 1))\n",
        "\n",
        "        self.Wc = np.random.randn(hidden_dim, concat_dim) * 0.01\n",
        "        self.bc = np.zeros((hidden_dim, 1))\n",
        "\n",
        "        self.Wo = np.random.randn(hidden_dim, concat_dim) * 0.01\n",
        "        self.bo = np.zeros((hidden_dim, 1))\n",
        "\n",
        "        # Output layer\n",
        "        self.Wy = np.random.randn(output_dim, hidden_dim) * 0.01\n",
        "        self.by = np.zeros((output_dim, 1))\n",
        "\n",
        "        # Initialize embedding matrices\n",
        "        self.ticker_embedding = np.random.randn(self.ticker_dim, self.embedding_dim) * 0.01\n",
        "        self.sector_embedding = np.random.randn(self.sector_dim, self.embedding_dim) * 0.01\n",
        "\n",
        "        # Initialize Adam moment estimates\n",
        "        self._init_adam_params()\n",
        "\n",
        "    def _init_adam_params(self):\n",
        "        self.m = {}\n",
        "        self.v = {}\n",
        "        for param_name in ['Wf', 'Wi', 'Wc', 'Wo', 'Wy', 'bf', 'bi', 'bc', 'bo', 'by']:\n",
        "            param = getattr(self, param_name)\n",
        "            self.m[param_name] = np.zeros_like(param)\n",
        "            self.v[param_name] = np.zeros_like(param)\n",
        "\n",
        "    def get_ticker_embedding(self, ticker_id):\n",
        "        \"\"\"Return the embedding for the ticker ID\"\"\"\n",
        "        return self.ticker_embedding[ticker_id].reshape(-1, 1)\n",
        "\n",
        "    def get_sector_embedding(self, sector_id):\n",
        "        \"\"\"Return the embedding for the sector ID\"\"\"\n",
        "        return self.sector_embedding[sector_id].reshape(-1, 1)\n",
        "\n",
        "    def sigmoid(self, x): return 1 / (1 + np.exp(-x))\n",
        "    def dsigmoid(self, x): return x * (1 - x)\n",
        "    def tanh(self, x): return np.tanh(x)\n",
        "    def dtanh(self, x): return 1 - x ** 2\n",
        "\n",
        "    def forward(self, x_seq, ticker_id, sector_id, h=None, c=None):\n",
        "        if h is None:\n",
        "            h = np.zeros((self.hidden_dim, 1))\n",
        "        if c is None:\n",
        "            c = np.zeros((self.hidden_dim, 1))\n",
        "        self.caches = []\n",
        "\n",
        "        # Get the ticker and sector embeddings once per sequence (not per timestep)\n",
        "        ticker_embedding = self.get_ticker_embedding(ticker_id).reshape(-1, 1)\n",
        "        sector_embedding = self.get_sector_embedding(sector_id).reshape(-1, 1)\n",
        "\n",
        "        for x in x_seq:\n",
        "            x = x.reshape(self.input_dim, 1)\n",
        "\n",
        "            # Concatenate previous hidden state, input, ticker embedding, and sector embedding\n",
        "            concat = np.vstack((h, x, ticker_embedding, sector_embedding))\n",
        "\n",
        "            ft = self.sigmoid(np.dot(self.Wf, concat) + self.bf)\n",
        "            it = self.sigmoid(np.dot(self.Wi, concat) + self.bi)\n",
        "            c_tilde = self.tanh(np.dot(self.Wc, concat) + self.bc)\n",
        "            c = ft * c + it * c_tilde\n",
        "            ot = self.sigmoid(np.dot(self.Wo, concat) + self.bo)\n",
        "            h = ot * self.tanh(c)\n",
        "\n",
        "            self.caches.append((h, c, ft, it, c_tilde, ot, concat))\n",
        "\n",
        "        y_hat = np.dot(self.Wy, h) + self.by\n",
        "        return y_hat, h, c\n",
        "\n",
        "    def backward(self, x_seq, y_hat, y_true):\n",
        "        dh_next = np.zeros((self.hidden_dim, 1))\n",
        "        dc_next = np.zeros((self.hidden_dim, 1))\n",
        "\n",
        "        grads = {\n",
        "            'Wf': np.zeros_like(self.Wf), 'Wi': np.zeros_like(self.Wi),\n",
        "            'Wc': np.zeros_like(self.Wc), 'Wo': np.zeros_like(self.Wo),\n",
        "            'Wy': np.zeros_like(self.Wy),\n",
        "            'bf': np.zeros_like(self.bf), 'bi': np.zeros_like(self.bi),\n",
        "            'bc': np.zeros_like(self.bc), 'bo': np.zeros_like(self.bo),\n",
        "            'by': np.zeros_like(self.by)\n",
        "        }\n",
        "\n",
        "        dy = y_hat - y_true\n",
        "        grads['Wy'] += np.dot(dy, self.caches[-1][0].T)\n",
        "        grads['by'] += dy\n",
        "\n",
        "        dh = np.dot(self.Wy.T, dy) + dh_next\n",
        "\n",
        "        for t in reversed(range(len(x_seq))):\n",
        "            h, c, ft, it, c_tilde, ot, concat = self.caches[t]\n",
        "            c_prev = self.caches[t - 1][1] if t > 0 else np.zeros_like(c)\n",
        "\n",
        "            do = dh * self.tanh(c)\n",
        "            do_raw = do * self.dsigmoid(ot)\n",
        "\n",
        "            dc = dh * ot * self.dtanh(self.tanh(c)) + dc_next\n",
        "            dc_tilde = dc * it\n",
        "            dc_tilde_raw = dc_tilde * self.dtanh(c_tilde)\n",
        "\n",
        "            di = dc * c_tilde\n",
        "            di_raw = di * self.dsigmoid(it)\n",
        "\n",
        "            df = dc * c_prev\n",
        "            df_raw = df * self.dsigmoid(ft)\n",
        "\n",
        "            grads['Wf'] += np.dot(df_raw, concat.T)\n",
        "            grads['Wi'] += np.dot(di_raw, concat.T)\n",
        "            grads['Wc'] += np.dot(dc_tilde_raw, concat.T)\n",
        "            grads['Wo'] += np.dot(do_raw, concat.T)\n",
        "\n",
        "            grads['bf'] += df_raw\n",
        "            grads['bi'] += di_raw\n",
        "            grads['bc'] += dc_tilde_raw\n",
        "            grads['bo'] += do_raw\n",
        "\n",
        "            dconcat = (np.dot(self.Wf.T, df_raw) +\n",
        "                       np.dot(self.Wi.T, di_raw) +\n",
        "                       np.dot(self.Wc.T, dc_tilde_raw) +\n",
        "                       np.dot(self.Wo.T, do_raw))\n",
        "\n",
        "            dh = dconcat[:self.hidden_dim, :]\n",
        "            dc_next = dc * ft\n",
        "\n",
        "        self._apply_adam(grads)\n",
        "        self.t += 1  # Increment timestep\n",
        "\n",
        "    def _apply_adam(self, grads):\n",
        "        for param_name in grads:\n",
        "            grad = grads[param_name]\n",
        "            self.m[param_name] = self.beta1 * self.m[param_name] + (1 - self.beta1) * grad\n",
        "            self.v[param_name] = self.beta2 * self.v[param_name] + (1 - self.beta2) * (grad ** 2)\n",
        "\n",
        "            m_hat = self.m[param_name] / (1 - self.beta1 ** self.t)\n",
        "            v_hat = self.v[param_name] / (1 - self.beta2 ** self.t)\n",
        "\n",
        "            param = getattr(self, param_name)\n",
        "            param -= self.lr * m_hat / (np.sqrt(v_hat) + self.epsilon)\n",
        "            setattr(self, param_name, param)\n",
        "\n",
        "\n",
        "    def train(self, X_train, y_train, ticker_ids_train, sector_ids_train, epochs=10, batch_size=32):\n",
        "        for epoch in range(epochs):\n",
        "            total_loss = 0\n",
        "            indices = np.arange(len(X_train))\n",
        "            np.random.shuffle(indices)\n",
        "\n",
        "            for i in range(0, len(X_train), batch_size):\n",
        "                batch_indices = indices[i:i + batch_size]\n",
        "                batch_loss = 0\n",
        "                batch_grads = []\n",
        "\n",
        "                for j in batch_indices:\n",
        "                    x_seq = X_train[j]\n",
        "                    y_true = y_train[j].reshape(self.output_dim, 1)\n",
        "                    ticker_ids = ticker_ids_train[j]\n",
        "                    sector_ids = sector_ids_train[j]\n",
        "                    y_hat, _, _ = self.forward(x_seq, ticker_ids, sector_ids)\n",
        "                    loss = np.mean((y_hat - y_true) ** 2)\n",
        "                    batch_loss += loss\n",
        "\n",
        "                    self.backward(x_seq, y_hat, y_true)\n",
        "\n",
        "                total_loss += batch_loss\n",
        "\n",
        "            print(f\"Epoch {epoch + 1}/{epochs}, Loss: {total_loss:.6f}\")\n",
        "\n"
      ]
    },
    {
      "cell_type": "code",
      "execution_count": null,
      "metadata": {
        "colab": {
          "base_uri": "https://localhost:8080/"
        },
        "id": "kyL808Nqh9Dx",
        "outputId": "056a3b17-a903-4921-cf8b-b0671fb0754b"
      },
      "outputs": [
        {
          "output_type": "stream",
          "name": "stdout",
          "text": [
            "{'Technology': 0, 'Healthcare': 1, 'Financial Services': 2, 'Physical Assets & Resources': 3, 'Consumer Cyclical': 4, 'Industrials': 5, 'Communication Services': 6, 'Consumer Defensive': 7}\n"
          ]
        }
      ],
      "source": [
        "# Print the sector to ID mapping\n",
        "print(sector_to_id)\n"
      ]
    },
    {
      "cell_type": "code",
      "execution_count": null,
      "metadata": {
        "id": "0pZtwcDL85wa"
      },
      "outputs": [],
      "source": [
        "sector_mapping = {\n",
        "    0: \"Technology\",\n",
        "    1: \"Healthcare\",\n",
        "    2: \"Financial Services\",\n",
        "    3: \"Physical Assets & Resources\",\n",
        "    4: \"Consumer Cyclical\",\n",
        "    5: \"Industrials\",\n",
        "    6: \"Communication Services\",\n",
        "    7: \"Consumer Defensive\"\n",
        "}\n"
      ]
    },
    {
      "cell_type": "code",
      "execution_count": null,
      "metadata": {
        "id": "OH_jHCLGyn9j"
      },
      "outputs": [],
      "source": [
        "def train_lstm_sectorwise(X_train, y_train, train_tickers, train_sectors, sector_id, params, sector_models=None):\n",
        "    if sector_models is None:\n",
        "        sector_models = {}\n",
        "\n",
        "    # Select data for the given sector\n",
        "    sector_indices = np.where(train_sectors == sector_id)[0]\n",
        "\n",
        "    if len(sector_indices) == 0:\n",
        "        print(f\"No training data for sector {sector_id}. Skipping.\")\n",
        "        return sector_models\n",
        "\n",
        "    X_sector = X_train[sector_indices]\n",
        "    y_sector = y_train[sector_indices]\n",
        "    ticker_sector = train_tickers[sector_indices]\n",
        "    sector_sector = train_sectors[sector_indices]\n",
        "\n",
        "    # Get sector name for printing\n",
        "    sector_name = sector_mapping.get(sector_id, f\"Sector {sector_id}\")\n",
        "\n",
        "    # Check if model for sector already exists (for fine-tuning)\n",
        "    if sector_id in sector_models:\n",
        "        model = sector_models[sector_id]\n",
        "        print(f\"\\nFine-tuning sector {sector_name}...\")\n",
        "    else:\n",
        "        model = LSTM(\n",
        "            input_dim=params['input_dim'],\n",
        "            hidden_dim=params['hidden_dim'],\n",
        "            output_dim=params['output_dim'],\n",
        "            ticker_dim=params['ticker_dim'],\n",
        "            embedding_dim=params['embedding_dim'],\n",
        "            sector_dim=params['sector_dim'],\n",
        "            learning_rate=params['learning_rate']\n",
        "        )\n",
        "        print(f\"\\nTraining {sector_name} sector from scratch...\")\n",
        "\n",
        "    # Train\n",
        "    model.train(X_sector, y_sector, ticker_sector, sector_sector, epochs=params['epochs'], batch_size=params['batch_size'])\n",
        "\n",
        "    # Save the model\n",
        "    sector_models[sector_id] = model\n",
        "\n",
        "    return sector_models\n"
      ]
    },
    {
      "cell_type": "code",
      "execution_count": null,
      "metadata": {
        "id": "kuAVTvcgBfsQ"
      },
      "outputs": [],
      "source": [
        "# Initialize empty models\n",
        "sector_models = {}"
      ]
    },
    {
      "cell_type": "code",
      "execution_count": null,
      "metadata": {
        "id": "Mj3rHm-IwEBq"
      },
      "outputs": [],
      "source": []
    },
    {
      "cell_type": "code",
      "execution_count": null,
      "metadata": {
        "id": "Bl9LOkpPahrh"
      },
      "outputs": [],
      "source": [
        "def predict_logreturns(sector_model, X_test, test_tickers, sector_id, scalers):\n",
        "    \"\"\"\n",
        "    Predict log returns for all stocks in the given sector.\n",
        "    \"\"\"\n",
        "    predictions = []\n",
        "\n",
        "    for i in range(len(X_test)):\n",
        "        x_seq = X_test[i]\n",
        "        ticker_id = test_tickers[i]\n",
        "\n",
        "        # Reinitialize hidden and cell states\n",
        "        h_prev = np.zeros((sector_model.hidden_dim, 1))\n",
        "        c_prev = np.zeros((sector_model.hidden_dim, 1))\n",
        "\n",
        "        # Get the prediction for this sequence\n",
        "        y_pred, _, _ = sector_model.forward(x_seq, ticker_id, sector_id, h_prev, c_prev)\n",
        "        predictions.append(y_pred.flatten()[0])\n",
        "\n",
        "    # Inverse scale the predictions (log returns)\n",
        "    min_target, max_target = scalers['target']\n",
        "    predictions = np.array(predictions) * (max_target - min_target) + min_target\n",
        "\n",
        "    return predictions\n"
      ]
    },
    {
      "cell_type": "code",
      "execution_count": null,
      "metadata": {
        "id": "uSe6B4AhahoJ"
      },
      "outputs": [],
      "source": [
        "def calculate_volatility(log_returns, window_size=10):\n",
        "    \"\"\"\n",
        "    Calculate volatility (standard deviation) of log returns for a given window size.\n",
        "    \"\"\"\n",
        "    volatility = []\n",
        "    for i in range(len(log_returns)):\n",
        "        start = max(0, i - window_size + 1)\n",
        "        window = log_returns[start:i+1]\n",
        "        volatility.append(np.std(window))  # Standard deviation as volatility\n",
        "    return np.array(volatility)\n"
      ]
    },
    {
      "cell_type": "code",
      "execution_count": null,
      "metadata": {
        "id": "bTHZS0lRahlp"
      },
      "outputs": [],
      "source": [
        "import os\n",
        "def save_predictions_to_csv(sector_id, log_returns, volatility, test_tickers, output_filename, ticker_mapping, sector_mapping):\n",
        "    \"\"\"\n",
        "    Save log returns and volatility to a CSV file for a specific sector with stock and sector names.\n",
        "    \"\"\"\n",
        "\n",
        "    id_to_ticker = {v: k for k, v in ticker_to_id.items()}\n",
        "\n",
        "    # Map ticker_ids to actual ticker names using ticker_mapping\n",
        "    ticker_names = [id_to_ticker[ticker_id] for ticker_id in test_tickers]\n",
        "\n",
        "    # Map sector_id to sector name using sector_mapping\n",
        "    sector_name = sector_mapping.get(sector_id, \"Unknown Sector\")\n",
        "\n",
        "    # Create DataFrame to store predictions\n",
        "    df = pd.DataFrame({\n",
        "        'Stock': ticker_names,\n",
        "        'Log_Returns': log_returns,\n",
        "        'Volatility': volatility,\n",
        "        'Sector': [sector_name] * len(test_tickers)  # Add the sector name instead of sector_id\n",
        "    })\n",
        "\n",
        "    # Check if the file already exists to determine if headers should be written\n",
        "    file_exists = os.path.exists(output_filename)\n",
        "\n",
        "    # Append to the CSV file (with headers only if the file doesn't exist)\n",
        "    df.to_csv(output_filename, index=False, mode='a', header=not file_exists)  # Only write header if the file doesn't exist\n",
        "\n",
        "    print(f\"Results for sector '{sector_name}' saved to {output_filename}\")"
      ]
    },
    {
      "cell_type": "code",
      "execution_count": null,
      "metadata": {
        "id": "_AdUmUAqJUm-"
      },
      "outputs": [],
      "source": [
        "from datetime import timedelta\n",
        "import matplotlib.pyplot as plt\n",
        "\n",
        "def walk_forward_validation(data_df, sector_id, params, start_date, end_date, train_window_days=365, test_window_days=30):\n",
        "    \"\"\"\n",
        "    Perform walk-forward validation on sector-specific data.\n",
        "\n",
        "    Parameters:\n",
        "        data_df: DataFrame with columns ['Date', 'X', 'y', 'ticker_id', 'sector_id']\n",
        "        sector_id: Sector ID (e.g., 0 for Technology)\n",
        "        params: Model parameters dictionary\n",
        "        start_date: Start of the walk-forward validation window (string or datetime)\n",
        "        end_date: End of the walk-forward validation window (string or datetime)\n",
        "        train_window_days: Size of training window in days\n",
        "        test_window_days: Size of testing window in days\n",
        "    \"\"\"\n",
        "    # Convert dates\n",
        "    start = pd.to_datetime(start_date)\n",
        "    end = pd.to_datetime(end_date)\n",
        "\n",
        "    current_date = start\n",
        "    walk_id = 0\n",
        "\n",
        "    all_walk_preds = []\n",
        "    all_walk_truths = []\n",
        "    all_walk_dates = []\n",
        "\n",
        "    while current_date + timedelta(days=train_window_days + test_window_days) <= end:\n",
        "        train_start = current_date\n",
        "        train_end = train_start + timedelta(days=train_window_days)\n",
        "        test_start = train_end\n",
        "        test_end = test_start + timedelta(days=test_window_days)\n",
        "\n",
        "        print(f\"\\n=== Walk {walk_id}: {train_start.date()} to {test_end.date()} ===\")\n",
        "\n",
        "        # Filter training data\n",
        "        train_data = data_df[(data_df['Date'] >= train_start) & (data_df['Date'] < train_end) & (data_df['sector_id'] == sector_id)]\n",
        "        test_data = data_df[(data_df['Date'] >= test_start) & (data_df['Date'] < test_end) & (data_df['sector_id'] == sector_id)]\n",
        "\n",
        "        if len(train_data) == 0 or len(test_data) == 0:\n",
        "            print(\"Skipping due to lack of data.\")\n",
        "            current_date += timedelta(days=test_window_days)\n",
        "            continue\n",
        "\n",
        "        # Convert to arrays\n",
        "        X_train = np.stack(train_data['X'].values)\n",
        "        y_train = np.stack(train_data['y'].values)\n",
        "        train_tickers = train_data['ticker_id'].values\n",
        "        train_sectors = train_data['sector_id'].values\n",
        "\n",
        "        X_test = np.stack(test_data['X'].values)\n",
        "        y_test = np.stack(test_data['y'].values)\n",
        "        test_tickers = test_data['ticker_id'].values\n",
        "\n",
        "        # Train model on current window\n",
        "        sector_models = train_lstm_sectorwise(X_train, y_train, train_tickers, train_sectors, sector_id, params)\n",
        "\n",
        "        # Predict\n",
        "        log_returns = predict_logreturns(sector_models[sector_id], X_test, test_tickers, sector_id, scalers)\n",
        "\n",
        "        # Inverse scale the true values (y_test) and predictions\n",
        "        min_target, max_target = scalers['target']\n",
        "        y_test_true = y_test * (max_target - min_target) + min_target\n",
        "        y_pred = np.array(log_returns)\n",
        "\n",
        "        # Manually calculate errors\n",
        "        abs_errors = np.abs(y_test_true - y_pred)\n",
        "        squared_errors = (y_test_true - y_pred) ** 2\n",
        "\n",
        "        mae = np.mean(abs_errors)\n",
        "        mse = np.mean(squared_errors)\n",
        "        rmse = np.sqrt(mse)\n",
        "\n",
        "        print(f\"Walk {walk_id} - MAE: {mae:.5f}, RMSE: {rmse:.5f}, MSE: {mse:.5f}\")\n",
        "\n",
        "        # Volatility\n",
        "        volatility = calculate_volatility(log_returns)\n",
        "\n",
        "        # Save predictions\n",
        "        output_filename = f'technology_sector_predictions_walk{walk_id}.csv'\n",
        "        save_predictions_to_csv(sector_id, log_returns, volatility, test_tickers, output_filename, ticker_mapping, sector_mapping)\n",
        "\n",
        "        # Store for multi-walk plotting\n",
        "        all_walk_preds.extend(y_pred)\n",
        "        all_walk_truths.extend(y_test_true)\n",
        "        all_walk_dates.extend(test_data['Date'].values)\n",
        "\n",
        "        # Advance window\n",
        "        current_date += timedelta(days=test_window_days)\n",
        "        walk_id += 1\n",
        "\n",
        "    # Plot all predictions vs actuals\n",
        "    if all_walk_preds and all_walk_truths:\n",
        "        plt.figure(figsize=(14, 6))\n",
        "        plt.plot(all_walk_dates, all_walk_truths, label=\"Actual Log Returns\", color='black', linewidth=2)\n",
        "        plt.plot(all_walk_dates, all_walk_preds, label=\"Predicted Log Returns\", linestyle='--', color='blue')\n",
        "        plt.xlabel(\"Date\")\n",
        "        plt.ylabel(\"Log Returns\")\n",
        "        plt.title(f\"Technology Sector: Actual vs Predicted Log Returns Across All Walks\")\n",
        "        plt.legend()\n",
        "        plt.grid(True)\n",
        "        plt.tight_layout()\n",
        "        plt.show()\n"
      ]
    },
    {
      "cell_type": "code",
      "execution_count": null,
      "metadata": {
        "id": "zxIDXLPy5_fM"
      },
      "outputs": [],
      "source": [
        "def run_sector_evaluation(sector_id, sector_name, X_train, y_train, train_tickers, train_sectors, scaler_dict, ticker_mapping, sector_mapping, df, params):\n",
        "    \"\"\"\n",
        "    Run end-to-end training, prediction, and walk-forward validation for a specific sector.\n",
        "    \"\"\"\n",
        "\n",
        "    # Reverse mapping properly\n",
        "    id_to_ticker = {v: k for k, v in ticker_to_id.items()}  # use ticker_to_id\n",
        "\n",
        "    # Filter tickers belonging to Health sector\n",
        "    sector_tickers_ids = [ticker_id for ticker_id, s_id in zip(train_tickers, train_sectors) if s_id==sector_id]\n",
        "\n",
        "    # Get stock names correctly\n",
        "    sector_stock_names = [id_to_ticker[int(ticker_id)] for ticker_id in set(sector_tickers_ids)]\n",
        "\n",
        "    print(\"Stocks being trained in health sector:\")\n",
        "    print(sector_stock_names)\n",
        "\n",
        "    # Extract start and end dates\n",
        "    start_date = df['Date'].min()\n",
        "    end_date = df['Date'].max()\n",
        "\n",
        "    # Combine data\n",
        "    combined_df = pd.DataFrame({\n",
        "        'Date': pd.to_datetime(df['Date'].iloc[:len(X_train)]),\n",
        "        'X': list(X_train),\n",
        "        'y': y_train.flatten(),\n",
        "        'ticker_id': train_tickers,\n",
        "        'sector_id': train_sectors\n",
        "    }).sort_values(by='Date').reset_index(drop=True)\n",
        "\n",
        "    # Call existing validation function\n",
        "    walk_forward_validation(\n",
        "        data_df=combined_df,\n",
        "        sector_id=sector_id,\n",
        "        params=params,\n",
        "        start_date=start_date,\n",
        "        end_date=end_date,\n",
        "        train_window_days=365,\n",
        "        test_window_days=30\n",
        "    )\n"
      ]
    },
    {
      "cell_type": "code",
      "execution_count": null,
      "metadata": {
        "id": "9MoHX2cw-NOl"
      },
      "outputs": [],
      "source": [
        "#-x-x-x-x-x-x-x-x-x-x-x-x- TECHNOLOGY -x-x-x-x-x-x-x-x-x-x-x-x-"
      ]
    },
    {
      "cell_type": "code",
      "execution_count": null,
      "metadata": {
        "id": "YNSGZszj-Ll1"
      },
      "outputs": [],
      "source": [
        "parameters = {\n",
        "    'input_dim': X_train.shape[2],  # Number of features\n",
        "    'hidden_dim': 64,\n",
        "    'output_dim': 1,\n",
        "    'ticker_dim': len(ticker_mapping),  # Total unique tickers\n",
        "    'embedding_dim': 8,\n",
        "    'sector_dim': len(sector_mapping),  # Total unique sectors\n",
        "    'learning_rate': 0.001,\n",
        "    'epochs': 5,\n",
        "    'batch_size': 32\n",
        "}"
      ]
    },
    {
      "cell_type": "code",
      "execution_count": null,
      "metadata": {
        "id": "IpZRdSFB8-FV",
        "colab": {
          "base_uri": "https://localhost:8080/",
          "height": 1000
        },
        "outputId": "392a9016-6912-4b7e-e13c-662504c288f6"
      },
      "outputs": [
        {
          "output_type": "stream",
          "name": "stdout",
          "text": [
            "Stocks being trained in health sector:\n",
            "['AAPL', 'MSFT', 'ACN', 'ADBE', 'NVDA', 'ORCL', 'AVGO', 'IBM', 'INTC', 'INTU', 'QCOM', 'CRM', 'CSCO']\n",
            "\n",
            "=== Walk 0: 2023-01-03 to 2024-02-02 ===\n",
            "\n",
            "Training Technology sector from scratch...\n",
            "Epoch 1/5, Loss: 16.592478\n",
            "Epoch 2/5, Loss: 6.118938\n",
            "Epoch 3/5, Loss: 5.898695\n",
            "Epoch 4/5, Loss: 5.663927\n",
            "Epoch 5/5, Loss: 5.485746\n",
            "Walk 0 - MAE: 0.01454, RMSE: 0.02016, MSE: 0.00041\n",
            "Results for sector 'Technology' saved to technology_sector_predictions_walk0.csv\n",
            "\n",
            "=== Walk 1: 2023-02-02 to 2024-03-03 ===\n",
            "\n",
            "Training Technology sector from scratch...\n",
            "Epoch 1/5, Loss: 15.516598\n",
            "Epoch 2/5, Loss: 6.093641\n",
            "Epoch 3/5, Loss: 5.963826\n",
            "Epoch 4/5, Loss: 5.606761\n",
            "Epoch 5/5, Loss: 5.540456\n",
            "Walk 1 - MAE: 0.01520, RMSE: 0.02547, MSE: 0.00065\n",
            "Results for sector 'Technology' saved to technology_sector_predictions_walk1.csv\n",
            "\n",
            "=== Walk 2: 2023-03-04 to 2024-04-02 ===\n",
            "\n",
            "Training Technology sector from scratch...\n",
            "Epoch 1/5, Loss: 16.151344\n",
            "Epoch 2/5, Loss: 6.453126\n",
            "Epoch 3/5, Loss: 6.119161\n",
            "Epoch 4/5, Loss: 5.894833\n",
            "Epoch 5/5, Loss: 5.810087\n",
            "Walk 2 - MAE: 0.01326, RMSE: 0.01947, MSE: 0.00038\n",
            "Results for sector 'Technology' saved to technology_sector_predictions_walk2.csv\n",
            "\n",
            "=== Walk 3: 2023-04-03 to 2024-05-02 ===\n",
            "\n",
            "Training Technology sector from scratch...\n",
            "Epoch 1/5, Loss: 16.189841\n",
            "Epoch 2/5, Loss: 6.532758\n",
            "Epoch 3/5, Loss: 5.873219\n",
            "Epoch 4/5, Loss: 5.736505\n",
            "Epoch 5/5, Loss: 5.654301\n",
            "Walk 3 - MAE: 0.01356, RMSE: 0.01920, MSE: 0.00037\n",
            "Results for sector 'Technology' saved to technology_sector_predictions_walk3.csv\n",
            "\n",
            "=== Walk 4: 2023-05-03 to 2024-06-01 ===\n",
            "\n",
            "Training Technology sector from scratch...\n",
            "Epoch 1/5, Loss: 15.899425\n",
            "Epoch 2/5, Loss: 6.406798\n",
            "Epoch 3/5, Loss: 5.943655\n",
            "Epoch 4/5, Loss: 5.694723\n",
            "Epoch 5/5, Loss: 5.522774\n",
            "Walk 4 - MAE: 0.01448, RMSE: 0.02276, MSE: 0.00052\n",
            "Results for sector 'Technology' saved to technology_sector_predictions_walk4.csv\n",
            "\n",
            "=== Walk 5: 2023-06-02 to 2024-07-01 ===\n",
            "\n",
            "Training Technology sector from scratch...\n",
            "Epoch 1/5, Loss: 15.330920\n",
            "Epoch 2/5, Loss: 6.259232\n",
            "Epoch 3/5, Loss: 5.970117\n",
            "Epoch 4/5, Loss: 5.568049\n",
            "Epoch 5/5, Loss: 5.513997\n",
            "Walk 5 - MAE: 0.01329, RMSE: 0.02068, MSE: 0.00043\n",
            "Results for sector 'Technology' saved to technology_sector_predictions_walk5.csv\n",
            "\n",
            "=== Walk 6: 2023-07-02 to 2024-07-31 ===\n",
            "\n",
            "Training Technology sector from scratch...\n",
            "Epoch 1/5, Loss: 15.435575\n",
            "Epoch 2/5, Loss: 6.433176\n",
            "Epoch 3/5, Loss: 5.922703\n",
            "Epoch 4/5, Loss: 5.654606\n",
            "Epoch 5/5, Loss: 5.457724\n",
            "Walk 6 - MAE: 0.01308, RMSE: 0.01765, MSE: 0.00031\n",
            "Results for sector 'Technology' saved to technology_sector_predictions_walk6.csv\n",
            "\n",
            "=== Walk 7: 2023-08-01 to 2024-08-30 ===\n",
            "\n",
            "Training Technology sector from scratch...\n",
            "Epoch 1/5, Loss: 15.839704\n",
            "Epoch 2/5, Loss: 6.220013\n",
            "Epoch 3/5, Loss: 5.893067\n",
            "Epoch 4/5, Loss: 5.699302\n",
            "Epoch 5/5, Loss: 5.411060\n",
            "Walk 7 - MAE: 0.01479, RMSE: 0.02152, MSE: 0.00046\n",
            "Results for sector 'Technology' saved to technology_sector_predictions_walk7.csv\n",
            "\n",
            "=== Walk 8: 2023-08-31 to 2024-09-29 ===\n",
            "\n",
            "Training Technology sector from scratch...\n",
            "Epoch 1/5, Loss: 16.006925\n",
            "Epoch 2/5, Loss: 6.175003\n",
            "Epoch 3/5, Loss: 5.844941\n",
            "Epoch 4/5, Loss: 5.611135\n",
            "Epoch 5/5, Loss: 5.390297\n",
            "Walk 8 - MAE: 0.01362, RMSE: 0.01994, MSE: 0.00040\n",
            "Results for sector 'Technology' saved to technology_sector_predictions_walk8.csv\n",
            "\n",
            "=== Walk 9: 2023-09-30 to 2024-10-29 ===\n",
            "\n",
            "Training Technology sector from scratch...\n",
            "Epoch 1/5, Loss: 15.117411\n",
            "Epoch 2/5, Loss: 6.129238\n",
            "Epoch 3/5, Loss: 5.897971\n",
            "Epoch 4/5, Loss: 5.599534\n",
            "Epoch 5/5, Loss: 5.351882\n",
            "Walk 9 - MAE: 0.01452, RMSE: 0.01898, MSE: 0.00036\n",
            "Results for sector 'Technology' saved to technology_sector_predictions_walk9.csv\n",
            "\n",
            "=== Walk 10: 2023-10-30 to 2024-11-28 ===\n",
            "\n",
            "Training Technology sector from scratch...\n",
            "Epoch 1/5, Loss: 15.569530\n",
            "Epoch 2/5, Loss: 5.974457\n",
            "Epoch 3/5, Loss: 5.557817\n",
            "Epoch 4/5, Loss: 5.287138\n",
            "Epoch 5/5, Loss: 5.148710\n",
            "Walk 10 - MAE: 0.01144, RMSE: 0.01584, MSE: 0.00025\n",
            "Results for sector 'Technology' saved to technology_sector_predictions_walk10.csv\n",
            "\n",
            "=== Walk 11: 2023-11-29 to 2024-12-28 ===\n",
            "\n",
            "Training Technology sector from scratch...\n",
            "Epoch 1/5, Loss: 16.867790\n",
            "Epoch 2/5, Loss: 5.811438\n",
            "Epoch 3/5, Loss: 5.335443\n",
            "Epoch 4/5, Loss: 5.271594\n",
            "Epoch 5/5, Loss: 5.040815\n",
            "Walk 11 - MAE: 0.01383, RMSE: 0.02741, MSE: 0.00075\n",
            "Results for sector 'Technology' saved to technology_sector_predictions_walk11.csv\n"
          ]
        },
        {
          "output_type": "display_data",
          "data": {
            "text/plain": [
              "<Figure size 1400x600 with 1 Axes>"
            ],
            "image/png": "[encoded data removed]"
          },
          "metadata": {}
        }
      ],
      "source": [
        "run_sector_evaluation(\n",
        "    sector_id=0,\n",
        "    sector_name=\"Technology\",\n",
        "    X_train=X_train,\n",
        "    y_train=y_train,\n",
        "    train_tickers=train_tickers,\n",
        "    train_sectors=train_sectors,\n",
        "    scaler_dict=scalers,\n",
        "    ticker_mapping=ticker_mapping,\n",
        "    sector_mapping=sector_mapping,\n",
        "    df=df,\n",
        "    params=parameters\n",
        ")\n"
      ]
    },
    {
      "cell_type": "code",
      "execution_count": null,
      "metadata": {
        "id": "YpGN3GJPap39"
      },
      "outputs": [],
      "source": [
        "#-x-x-x-x-x-x-x-x-x-x-x-x- HEALTHCARE -x-x-x-x-x-x-x-x-x-x-x-x-"
      ]
    },
    {
      "cell_type": "code",
      "execution_count": null,
      "metadata": {
        "id": "mtYR2K8-9FGM"
      },
      "outputs": [],
      "source": [
        "parameters = {\n",
        "    'input_dim': X_train.shape[2],  # Number of features\n",
        "    'hidden_dim': 64,\n",
        "    'output_dim': 1,\n",
        "    'ticker_dim': len(ticker_mapping),  # Total unique tickers\n",
        "    'embedding_dim': 8,\n",
        "    'sector_dim': len(sector_mapping),  # Total unique sectors\n",
        "    'learning_rate': 0.001,\n",
        "    'epochs': 5,\n",
        "    'batch_size': 32\n",
        "}"
      ]
    },
    {
      "cell_type": "code",
      "execution_count": null,
      "metadata": {
        "id": "SrcSZ8sP9FCt",
        "colab": {
          "base_uri": "https://localhost:8080/",
          "height": 1000
        },
        "outputId": "536600ca-0a32-4392-e0af-ab6c3431be88"
      },
      "outputs": [
        {
          "output_type": "stream",
          "name": "stdout",
          "text": [
            "Stocks being trained in health sector:\n",
            "['MRK', 'ABBV', 'ABT', 'AMGN', 'GILD', 'MDT', 'PFE', 'BMY', 'JNJ', 'LLY', 'CVS', 'DHR']\n",
            "\n",
            "=== Walk 0: 2023-01-03 to 2024-02-02 ===\n",
            "\n",
            "Training Healthcare sector from scratch...\n",
            "Epoch 1/5, Loss: 16.673377\n",
            "Epoch 2/5, Loss: 3.007118\n",
            "Epoch 3/5, Loss: 2.794932\n",
            "Epoch 4/5, Loss: 2.768374\n",
            "Epoch 5/5, Loss: 2.630927\n",
            "Walk 0 - MAE: 0.01135, RMSE: 0.01867, MSE: 0.00035\n",
            "Results for sector 'Healthcare' saved to technology_sector_predictions_walk0.csv\n",
            "\n",
            "=== Walk 1: 2023-02-02 to 2024-03-03 ===\n",
            "\n",
            "Training Healthcare sector from scratch...\n",
            "Epoch 1/5, Loss: 12.360651\n",
            "Epoch 2/5, Loss: 3.292576\n",
            "Epoch 3/5, Loss: 2.891488\n",
            "Epoch 4/5, Loss: 2.818410\n",
            "Epoch 5/5, Loss: 2.823515\n",
            "Walk 1 - MAE: 0.00988, RMSE: 0.01400, MSE: 0.00020\n",
            "Results for sector 'Healthcare' saved to technology_sector_predictions_walk1.csv\n",
            "\n",
            "=== Walk 2: 2023-03-04 to 2024-04-02 ===\n",
            "\n",
            "Training Healthcare sector from scratch...\n",
            "Epoch 1/5, Loss: 11.902117\n",
            "Epoch 2/5, Loss: 3.167487\n",
            "Epoch 3/5, Loss: 2.887206\n",
            "Epoch 4/5, Loss: 2.783789\n",
            "Epoch 5/5, Loss: 2.675704\n",
            "Walk 2 - MAE: 0.01252, RMSE: 0.01676, MSE: 0.00028\n",
            "Results for sector 'Healthcare' saved to technology_sector_predictions_walk2.csv\n",
            "\n",
            "=== Walk 3: 2023-04-03 to 2024-05-02 ===\n",
            "\n",
            "Training Healthcare sector from scratch...\n",
            "Epoch 1/5, Loss: 15.175516\n",
            "Epoch 2/5, Loss: 3.080245\n",
            "Epoch 3/5, Loss: 2.901157\n",
            "Epoch 4/5, Loss: 2.750228\n",
            "Epoch 5/5, Loss: 2.639886\n",
            "Walk 3 - MAE: 0.01110, RMSE: 0.01490, MSE: 0.00022\n",
            "Results for sector 'Healthcare' saved to technology_sector_predictions_walk3.csv\n",
            "\n",
            "=== Walk 4: 2023-05-03 to 2024-06-01 ===\n",
            "\n",
            "Training Healthcare sector from scratch...\n",
            "Epoch 1/5, Loss: 13.933602\n",
            "Epoch 2/5, Loss: 2.984435\n",
            "Epoch 3/5, Loss: 2.895013\n",
            "Epoch 4/5, Loss: 2.634684\n",
            "Epoch 5/5, Loss: 2.528319\n",
            "Walk 4 - MAE: 0.00997, RMSE: 0.01400, MSE: 0.00020\n",
            "Results for sector 'Healthcare' saved to technology_sector_predictions_walk4.csv\n",
            "\n",
            "=== Walk 5: 2023-06-02 to 2024-07-01 ===\n",
            "\n",
            "Training Healthcare sector from scratch...\n",
            "Epoch 1/5, Loss: 11.699646\n",
            "Epoch 2/5, Loss: 3.007125\n",
            "Epoch 3/5, Loss: 2.786654\n",
            "Epoch 4/5, Loss: 2.549177\n",
            "Epoch 5/5, Loss: 2.438563\n",
            "Walk 5 - MAE: 0.01055, RMSE: 0.01564, MSE: 0.00024\n",
            "Results for sector 'Healthcare' saved to technology_sector_predictions_walk5.csv\n",
            "\n",
            "=== Walk 6: 2023-07-02 to 2024-07-31 ===\n",
            "\n",
            "Training Healthcare sector from scratch...\n",
            "Epoch 1/5, Loss: 11.723516\n",
            "Epoch 2/5, Loss: 2.869788\n",
            "Epoch 3/5, Loss: 2.605815\n",
            "Epoch 4/5, Loss: 2.499344\n",
            "Epoch 5/5, Loss: 2.429228\n",
            "Walk 6 - MAE: 0.01177, RMSE: 0.01613, MSE: 0.00026\n",
            "Results for sector 'Healthcare' saved to technology_sector_predictions_walk6.csv\n",
            "\n",
            "=== Walk 7: 2023-08-01 to 2024-08-30 ===\n",
            "\n",
            "Training Healthcare sector from scratch...\n",
            "Epoch 1/5, Loss: 16.595566\n",
            "Epoch 2/5, Loss: 2.860619\n",
            "Epoch 3/5, Loss: 2.631398\n",
            "Epoch 4/5, Loss: 2.512909\n",
            "Epoch 5/5, Loss: 2.459684\n",
            "Walk 7 - MAE: 0.01074, RMSE: 0.01439, MSE: 0.00021\n",
            "Results for sector 'Healthcare' saved to technology_sector_predictions_walk7.csv\n",
            "\n",
            "=== Walk 8: 2023-08-31 to 2024-09-29 ===\n",
            "\n",
            "Training Healthcare sector from scratch...\n",
            "Epoch 1/5, Loss: 13.130252\n",
            "Epoch 2/5, Loss: 2.906333\n",
            "Epoch 3/5, Loss: 2.638535\n",
            "Epoch 4/5, Loss: 2.569043\n",
            "Epoch 5/5, Loss: 2.526767\n",
            "Walk 8 - MAE: 0.00923, RMSE: 0.01231, MSE: 0.00015\n",
            "Results for sector 'Healthcare' saved to technology_sector_predictions_walk8.csv\n",
            "\n",
            "=== Walk 9: 2023-09-30 to 2024-10-29 ===\n",
            "\n",
            "Training Healthcare sector from scratch...\n",
            "Epoch 1/5, Loss: 13.872193\n",
            "Epoch 2/5, Loss: 2.793607\n",
            "Epoch 3/5, Loss: 2.723508\n",
            "Epoch 4/5, Loss: 2.524101\n",
            "Epoch 5/5, Loss: 2.427128\n",
            "Walk 9 - MAE: 0.01143, RMSE: 0.01914, MSE: 0.00037\n",
            "Results for sector 'Healthcare' saved to technology_sector_predictions_walk9.csv\n",
            "\n",
            "=== Walk 10: 2023-10-30 to 2024-11-28 ===\n",
            "\n",
            "Training Healthcare sector from scratch...\n",
            "Epoch 1/5, Loss: 11.579703\n",
            "Epoch 2/5, Loss: 3.056333\n",
            "Epoch 3/5, Loss: 2.756814\n",
            "Epoch 4/5, Loss: 2.662012\n",
            "Epoch 5/5, Loss: 2.590989\n",
            "Walk 10 - MAE: 0.00978, RMSE: 0.01390, MSE: 0.00019\n",
            "Results for sector 'Healthcare' saved to technology_sector_predictions_walk10.csv\n",
            "\n",
            "=== Walk 11: 2023-11-29 to 2024-12-28 ===\n",
            "\n",
            "Training Healthcare sector from scratch...\n",
            "Epoch 1/5, Loss: 13.118316\n",
            "Epoch 2/5, Loss: 2.988809\n",
            "Epoch 3/5, Loss: 2.840011\n",
            "Epoch 4/5, Loss: 2.668421\n",
            "Epoch 5/5, Loss: 2.500616\n",
            "Walk 11 - MAE: 0.01091, RMSE: 0.01605, MSE: 0.00026\n",
            "Results for sector 'Healthcare' saved to technology_sector_predictions_walk11.csv\n"
          ]
        },
        {
          "output_type": "display_data",
          "data": {
            "text/plain": [
              "<Figure size 1400x600 with 1 Axes>"
            ],
            "image/png": "[encoded data removed]"
          },
          "metadata": {}
        }
      ],
      "source": [
        "run_sector_evaluation(\n",
        "    sector_id=1,\n",
        "    sector_name=\"Health\",\n",
        "    X_train=X_train,\n",
        "    y_train=y_train,\n",
        "    train_tickers=train_tickers,\n",
        "    train_sectors=train_sectors,\n",
        "    scaler_dict=scalers,\n",
        "    ticker_mapping=ticker_mapping,\n",
        "    sector_mapping=sector_mapping,\n",
        "    df=df,\n",
        "    params=parameters\n",
        ")\n"
      ]
    },
    {
      "cell_type": "code",
      "execution_count": null,
      "metadata": {
        "id": "TUC4nyPg6T43"
      },
      "outputs": [],
      "source": [
        "#-x-x-x-x-x-x-x-x-x-x-x-x- FINANCIAL SERVICES -x-x-x-x-x-x-x-x-x-x-x-x-"
      ]
    },
    {
      "cell_type": "code",
      "execution_count": null,
      "metadata": {
        "id": "m8A5IRVyYySP"
      },
      "outputs": [],
      "source": [
        "parameters = {\n",
        "    'input_dim': X_train.shape[2],  # Number of features\n",
        "    'hidden_dim': 64,\n",
        "    'output_dim': 1,\n",
        "    'ticker_dim': len(ticker_mapping),  # Total unique tickers\n",
        "    'embedding_dim': 8,\n",
        "    'sector_dim': len(sector_mapping),  # Total unique sectors\n",
        "    'learning_rate': 0.001,\n",
        "    'epochs': 2,\n",
        "    'batch_size': 32\n",
        "}"
      ]
    },
    {
      "cell_type": "code",
      "execution_count": null,
      "metadata": {
        "id": "PblveWMo9QoG"
      },
      "outputs": [],
      "source": [
        "run_sector_evaluation(\n",
        "    sector_id=2,\n",
        "    sector_name=\"Financial Services\",\n",
        "    X_train=X_train,\n",
        "    y_train=y_train,\n",
        "    train_tickers=train_tickers,\n",
        "    train_sectors=train_sectors,\n",
        "    scaler_dict=scalers,\n",
        "    ticker_mapping=ticker_mapping,\n",
        "    sector_mapping=sector_mapping,\n",
        "    df=df,\n",
        "    params=parameters\n",
        ")\n"
      ]
    },
    {
      "cell_type": "code",
      "execution_count": null,
      "metadata": {
        "id": "_0Hsj2_J7ynH"
      },
      "outputs": [],
      "source": [
        "#-x-x-x-x-x-x-x-x-x-x-x-x- PHYSICAL ASSETS -x-x-x-x-x-x-x-x-x-x-x-x-"
      ]
    },
    {
      "cell_type": "code",
      "execution_count": null,
      "metadata": {
        "id": "mCrKII9C81xj"
      },
      "outputs": [],
      "source": [
        "parameters = {\n",
        "    'input_dim': X_train.shape[2],  # Number of features\n",
        "    'hidden_dim': 64,\n",
        "    'output_dim': 1,\n",
        "    'ticker_dim': len(ticker_mapping),  # Total unique tickers\n",
        "    'embedding_dim': 8,\n",
        "    'sector_dim': len(sector_mapping),  # Total unique sectors\n",
        "    'learning_rate': 0.001,\n",
        "    'epochs': 2,\n",
        "    'batch_size': 32\n",
        "}"
      ]
    },
    {
      "cell_type": "code",
      "execution_count": null,
      "metadata": {
        "id": "Qd5QY33-9Y5H"
      },
      "outputs": [],
      "source": [
        "run_sector_evaluation(\n",
        "    sector_id=3,\n",
        "    sector_name=\"Physical Assets\",\n",
        "    X_train=X_train,\n",
        "    y_train=y_train,\n",
        "    train_tickers=train_tickers,\n",
        "    train_sectors=train_sectors,\n",
        "    scaler_dict=scalers,\n",
        "    ticker_mapping=ticker_mapping,\n",
        "    sector_mapping=sector_mapping,\n",
        "    df=df,\n",
        "    params=parameters\n",
        ")\n"
      ]
    },
    {
      "cell_type": "code",
      "execution_count": null,
      "metadata": {
        "id": "Oo9pllkb81qF"
      },
      "outputs": [],
      "source": [
        "#-x-x-x-x-x-x-x-x-x-x-x-x- CONSUMER CYCLIC -x-x-x-x-x-x-x-x-x-x-x-x-"
      ]
    },
    {
      "cell_type": "code",
      "execution_count": null,
      "metadata": {
        "id": "VY7kWq4P9hIf"
      },
      "outputs": [],
      "source": [
        "parameters = {\n",
        "    'input_dim': X_train.shape[2],  # Number of features\n",
        "    'hidden_dim': 64,\n",
        "    'output_dim': 1,\n",
        "    'ticker_dim': len(ticker_mapping),  # Total unique tickers\n",
        "    'embedding_dim': 8,\n",
        "    'sector_dim': len(sector_mapping),  # Total unique sectors\n",
        "    'learning_rate': 0.001,\n",
        "    'epochs': 2,\n",
        "    'batch_size': 32\n",
        "}"
      ]
    },
    {
      "cell_type": "code",
      "execution_count": null,
      "metadata": {
        "id": "IU-qRLBZ-4oO"
      },
      "outputs": [],
      "source": [
        "run_sector_evaluation(\n",
        "    sector_id=4,\n",
        "    sector_name=\"Consumer Cyclic\",\n",
        "    X_train=X_train,\n",
        "    y_train=y_train,\n",
        "    train_tickers=train_tickers,\n",
        "    train_sectors=train_sectors,\n",
        "    scaler_dict=scalers,\n",
        "    ticker_mapping=ticker_mapping,\n",
        "    sector_mapping=sector_mapping,\n",
        "    df=df,\n",
        "    params=parameters\n",
        ")\n"
      ]
    },
    {
      "cell_type": "code",
      "execution_count": null,
      "metadata": {
        "id": "LCn2EL5S-Ehq"
      },
      "outputs": [],
      "source": [
        "#-x-x-x-x-x-x-x-x-x-x-x-x- INDUSTRIALS -x-x-x-x-x-x-x-x-x-x-x-x-"
      ]
    },
    {
      "cell_type": "code",
      "execution_count": null,
      "metadata": {
        "id": "NSM6J_5H9oa0"
      },
      "outputs": [],
      "source": [
        "parameters = {\n",
        "    'input_dim': X_train.shape[2],  # Number of features\n",
        "    'hidden_dim': 64,\n",
        "    'output_dim': 1,\n",
        "    'ticker_dim': len(ticker_mapping),  # Total unique tickers\n",
        "    'embedding_dim': 8,\n",
        "    'sector_dim': len(sector_mapping),  # Total unique sectors\n",
        "    'learning_rate': 0.001,\n",
        "    'epochs': 2,\n",
        "    'batch_size': 32\n",
        "}"
      ]
    },
    {
      "cell_type": "code",
      "execution_count": null,
      "metadata": {
        "id": "Qn366WO6_OTH"
      },
      "outputs": [],
      "source": [
        "run_sector_evaluation(\n",
        "    sector_id=5,\n",
        "    sector_name=\"Industrial\",\n",
        "    X_train=X_train,\n",
        "    y_train=y_train,\n",
        "    train_tickers=train_tickers,\n",
        "    train_sectors=train_sectors,\n",
        "    scaler_dict=scalers,\n",
        "    ticker_mapping=ticker_mapping,\n",
        "    sector_mapping=sector_mapping,\n",
        "    df=df,\n",
        "    params=parameters\n",
        ")\n"
      ]
    },
    {
      "cell_type": "code",
      "execution_count": null,
      "metadata": {
        "id": "bA8KmlxI_OM3"
      },
      "outputs": [],
      "source": [
        "#-x-x-x-x-x-x-x-x-x-x-x-x- COMMUNICATION SERVICES -x-x-x-x-x-x-x-x-x-x-x-x-"
      ]
    },
    {
      "cell_type": "code",
      "execution_count": null,
      "metadata": {
        "id": "95H6gqlWaLwL"
      },
      "outputs": [],
      "source": [
        "parameters = {\n",
        "    'input_dim': X_train.shape[2],  # Number of features\n",
        "    'hidden_dim': 64,\n",
        "    'output_dim': 1,\n",
        "    'ticker_dim': len(ticker_mapping),  # Total unique tickers\n",
        "    'embedding_dim': 8,\n",
        "    'sector_dim': len(sector_mapping),  # Total unique sectors\n",
        "    'learning_rate': 0.001,\n",
        "    'epochs': 2,\n",
        "    'batch_size': 32\n",
        "}"
      ]
    },
    {
      "cell_type": "code",
      "execution_count": null,
      "metadata": {
        "id": "JAdEg5DzAO-H"
      },
      "outputs": [],
      "source": [
        "run_sector_evaluation(\n",
        "    sector_id=6,\n",
        "    sector_name=\"Communication Services\",\n",
        "    X_train=X_train,\n",
        "    y_train=y_train,\n",
        "    train_tickers=train_tickers,\n",
        "    train_sectors=train_sectors,\n",
        "    scaler_dict=scalers,\n",
        "    ticker_mapping=ticker_mapping,\n",
        "    sector_mapping=sector_mapping,\n",
        "    df=df,\n",
        "    params=parameters\n",
        ")\n"
      ]
    },
    {
      "cell_type": "code",
      "execution_count": null,
      "metadata": {
        "id": "nhY-fXmtAO1n"
      },
      "outputs": [],
      "source": [
        "#-x-x-x-x-x-x-x-x-x-x-x-x- CONSUMER DEFENCE -x-x-x-x-x-x-x-x-x-x-x-x-"
      ]
    },
    {
      "cell_type": "code",
      "execution_count": null,
      "metadata": {
        "id": "KoDzfBopBQ6s"
      },
      "outputs": [],
      "source": [
        "parameters = {\n",
        "    'input_dim': X_train.shape[2],  # Number of features\n",
        "    'hidden_dim': 64,\n",
        "    'output_dim': 1,\n",
        "    'ticker_dim': len(ticker_mapping),  # Total unique tickers\n",
        "    'embedding_dim': 8,\n",
        "    'sector_dim': len(sector_mapping),  # Total unique sectors\n",
        "    'learning_rate': 0.001,\n",
        "    'epochs': 2,\n",
        "    'batch_size': 32\n",
        "}"
      ]
    },
    {
      "cell_type": "code",
      "execution_count": null,
      "metadata": {
        "id": "Rb56MJX6BQzE"
      },
      "outputs": [],
      "source": [
        "run_sector_evaluation(\n",
        "    sector_id=7,\n",
        "    sector_name=\"Consumer Defence\",\n",
        "    X_train=X_train,\n",
        "    y_train=y_train,\n",
        "    train_tickers=train_tickers,\n",
        "    train_sectors=train_sectors,\n",
        "    scaler_dict=scalers,\n",
        "    ticker_mapping=ticker_mapping,\n",
        "    sector_mapping=sector_mapping,\n",
        "    df=df,\n",
        "    params=parameters\n",
        ")\n"
      ]
    },
    {
      "cell_type": "code",
      "execution_count": null,
      "metadata": {
        "id": "8lciLPFP-Cx3"
      },
      "outputs": [],
      "source": []
    },
    {
      "cell_type": "code",
      "execution_count": null,
      "metadata": {
        "id": "eokyzgQg-Cul"
      },
      "outputs": [],
      "source": []
    },
    {
      "cell_type": "code",
      "execution_count": null,
      "metadata": {
        "id": "3rQx5oxu973j"
      },
      "outputs": [],
      "source": []
    },
    {
      "cell_type": "code",
      "execution_count": null,
      "metadata": {
        "id": "M7YwmlmZafPB"
      },
      "outputs": [],
      "source": [
        "# to check train-test split for each sector"
      ]
    },
    {
      "cell_type": "code",
      "execution_count": null,
      "metadata": {
        "id": "i5myD4SrafMJ"
      },
      "outputs": [],
      "source": [
        "def print_stocks_in_sector(train_tickers, train_sectors, test_tickers, test_sectors, ticker_mapping, sector_id, sector_mapping):\n",
        "    \"\"\"\n",
        "    Prints the unique stocks in train and test data for a given sector.\n",
        "    \"\"\"\n",
        "    # Reverse mapping: ID -> Ticker Name\n",
        "    ticker_to_id = {v: k for k, v in ticker_mapping.items()}\n",
        "\n",
        "    # Get tickers for the sector in train and test\n",
        "    train_sector_tickers = [ticker for ticker, sector in zip(train_tickers, train_sectors) if sector == sector_id]\n",
        "    test_sector_tickers = [ticker for ticker, sector in zip(test_tickers, test_sectors) if sector == sector_id]\n",
        "\n",
        "    unique_train_tickers = set(train_sector_tickers)\n",
        "    unique_test_tickers = set(test_sector_tickers)\n",
        "\n",
        "    # Map ticker IDs back to names\n",
        "    train_stock_names = [id_to_ticker[ticker_id] for ticker_id in unique_train_tickers]\n",
        "    test_stock_names = [id_to_ticker[ticker_id] for ticker_id in unique_test_tickers]\n",
        "\n",
        "    sector_name = sector_mapping.get(sector_id, f\"Sector {sector_id}\")\n",
        "\n",
        "    print(f\"\\n--- {sector_name} ---\")\n",
        "    print(f\"Unique stocks in train data ({len(train_stock_names)} stocks): {sorted(train_stock_names)}\")\n",
        "    print(f\"Unique stocks in test data ({len(test_stock_names)} stocks): {sorted(test_stock_names)}\")\n"
      ]
    },
    {
      "cell_type": "code",
      "execution_count": null,
      "metadata": {
        "colab": {
          "base_uri": "https://localhost:8080/"
        },
        "id": "cqdieB0JFMm3",
        "outputId": "20b30bbd-87ce-4482-e8d8-98d18c5292dc"
      },
      "outputs": [
        {
          "name": "stdout",
          "output_type": "stream",
          "text": [
            "Stocks being trained in Technology sector:\n",
            "['AAPL', 'MSFT', 'ACN', 'ADBE', 'NVDA', 'ORCL', 'AVGO', 'IBM', 'INTC', 'INTU', 'QCOM', 'CRM', 'CSCO']\n"
          ]
        }
      ],
      "source": [
        "# Reverse mapping properly\n",
        "id_to_ticker = {v: k for k, v in ticker_to_id.items()}\n",
        "\n",
        "# Filter tickers belonging to Technology sector (sector_id = 0)\n",
        "technology_sector_tickers = [ticker_id for ticker_id, sector_id in zip(train_tickers, train_sectors) if sector_id == 0]\n",
        "\n",
        "# Get stock names correctly\n",
        "technology_stock_names = [id_to_ticker[int(ticker_id)] for ticker_id in set(technology_sector_tickers)]\n",
        "\n",
        "print(\"Stocks being trained in Technology sector:\")\n",
        "print(technology_stock_names)"
      ]
    }
  ],
  "metadata": {
    "colab": {
      "provenance": []
    },
    "kernelspec": {
      "display_name": "Python 3",
      "name": "python3"
    },
    "language_info": {
      "name": "python"
    }
  },
  "nbformat": 4,
  "nbformat_minor": 0
}